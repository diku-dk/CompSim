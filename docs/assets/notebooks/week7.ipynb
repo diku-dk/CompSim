{
 "cells": [
  {
   "attachments": {},
   "cell_type": "markdown",
   "metadata": {
    "pycharm": {
     "name": "#%% md\n"
    }
   },
   "source": [
    "# Computational Methods in Simulation (CMIS) Week 7\n",
    "This notebook is intended to support your learning process. It contains exercises that help you to understand the material. "
   ]
  },
  {
   "attachments": {},
   "cell_type": "markdown",
   "metadata": {
    "pycharm": {
     "name": "#%% md\n"
    }
   },
   "source": [
    "This week is based on Slides 21 - follow the detailed instructions in order to build your own simulator:\n",
    "\n",
    "* Hints: You might want to re-visit your FEM and FVM code pieces and reuse subparts of them for this larger project. The meshing week might prove useful for creating your own test cases to play with.\n",
    "\n",
    "* Derive theory of how to create your own FVM simulator for simulating dynamic hyperelastic materials using a Saint-Vernant-Kirchoff model and a semi-implicit time-stepping scheme.\n",
    "* Design experiments for verification and validation of your own simulator\n",
    "* Present results of your experiments and discuss your findings\n",
    "* If time is available try and extend the simulator to use adaptive or higher order time-stepping\n",
    "* If time is available try and extend the simulator to use other types of material models\n",
    "* If time is available try and extend the simulator to have dynamic boundary conditions to model \"contact\" when objects move around.\n",
    "\n",
    "## Important Remark\n",
    "\n",
    "* Do not be too agressive in terms of too large time-step size, too stiff materials and too large gravity. The semi-explicit nature of this overall method is quite sensitive, so use soft materials, almost no gravity and very small time-steps is recommended for prototyping and initial implementation. Once, it has been verified that code works, one can crank up values as close to reality as possible."
   ]
  },
  {
   "attachments": {},
   "cell_type": "markdown",
   "metadata": {
    "pycharm": {
     "name": "#%% md\n"
    }
   },
   "source": [
    "## Detailed Expected Learning Objectives of this Week\n",
    "\n",
    "* Combine and show all skills learned through out the course.\n",
    "* Design interesting and relevant experiments for verification and validation.\n",
    "* Successfully create and discuss experimental results.\n",
    "* Demonstrate ability to scientific discuss and reflect on the simulator."
   ]
  },
  {
   "cell_type": "code",
   "execution_count": 1,
   "metadata": {
    "pycharm": {
     "name": "#%%\n"
    }
   },
   "outputs": [],
   "source": [
    "%matplotlib widget"
   ]
  },
  {
   "cell_type": "code",
   "execution_count": 2,
   "metadata": {
    "pycharm": {
     "name": "#%%\n"
    }
   },
   "outputs": [],
   "source": [
    "import igl\n",
    "import meshplot as mp\n",
    "import numpy as np\n",
    "import matplotlib.pyplot as plt\n",
    "from mpl_toolkits import mplot3d"
   ]
  },
  {
   "cell_type": "markdown",
   "metadata": {
    "pycharm": {
     "name": "#%% md\n"
    }
   },
   "source": [
    "# Handling Mesh Geometry Information\n",
    "In this week we may be able to resue material from previous weeks. In particular the beam mesh genreation function will be useful to us.\n",
    "\n",
    "However, we make one important slight change to this mesh generation function to avoid ear-triangles when we ask it to generate an even number of horitonal and vertical nodes.\n",
    "\n",
    "Ear triangles form a degenerate control volume and we do not like them for this reason. The most easy fix is to make sure we never generate ear-triangle in the first place."
   ]
  },
  {
   "cell_type": "code",
   "execution_count": 3,
   "metadata": {
    "pycharm": {
     "name": "#%%\n"
    }
   },
   "outputs": [],
   "source": [
    "def vec2(x,y):\n",
    "    return np.array([x, y],dtype=np.float64)\n",
    "\n",
    "\n",
    "def hat(p):\n",
    "    return vec2(-p[1], p[0])\n",
    "\n",
    "\n",
    "def compute_triangle_areas(V,T):\n",
    "    E = len(T) # Total number of triangles in the mesh\n",
    "    A = np.zeros((E,),dtype=np.float64)\n",
    "    for e in range(E):\n",
    "        # Get triangle indices\n",
    "        i = T[e,0]\n",
    "        j = T[e,1]\n",
    "        k = T[e,2]\n",
    "        # Get triangle coordinates\n",
    "        xi = V[i,0]\n",
    "        xj = V[j,0]\n",
    "        xk = V[k,0]\n",
    "        yi = V[i,1]\n",
    "        yj = V[j,1]\n",
    "        yk = V[k,1]    \n",
    "        \n",
    "        dx1 = xk - xj\n",
    "        dy1 = yk - yj\n",
    "        dx2 = xi - xj\n",
    "        dy2 = yi - yj\n",
    "\n",
    "        A[e] =  (dx1*dy2 - dx2*dy1 ) / 2.0\n",
    "    return A\n",
    "\n",
    "\n",
    "def make_beam_mesh(width, height, shape):\n",
    "    x0 = -width/2.0\n",
    "    y0 = -height/2.0\n",
    "    I  = shape[0]\n",
    "    J  = shape[1]\n",
    "    dx = width/float(I)\n",
    "    dy = height/float(J)\n",
    "    V = np.zeros(((I+1)*(J+1),2),dtype=np.float64)\n",
    "    for j in range(J+1):\n",
    "        for i in range(I+1):\n",
    "            k = i + j*(I+1)\n",
    "            V[k,0] = x0 + i*dx\n",
    "            V[k,1] = y0 + j*dy\n",
    "    T = np.zeros((2*I*J,3),dtype=np.int32)\n",
    "    for j in range(J):\n",
    "        for i in range(I):\n",
    "            k00 = (i  ) + (j  )*(I+1)\n",
    "            k01 = (i+1) + (j  )*(I+1)\n",
    "            k10 = (i  ) + (j+1)*(I+1)\n",
    "            k11 = (i+1) + (j+1)*(I+1)\n",
    "            e = 2*(i + j*I)\n",
    "            if (i+j+1)%2:\n",
    "                T[e,  :] = (k00,k01,k11)\n",
    "                T[e+1,:] = (k00,k11,k10)\n",
    "            else:\n",
    "                T[e,  :] = (k10,k00,k01)\n",
    "                T[e+1,:] = (k10,k01,k11)                    \n",
    "    return V, T"
   ]
  },
  {
   "cell_type": "markdown",
   "metadata": {
    "pycharm": {
     "name": "#%% md\n"
    }
   },
   "source": [
    "Later we will need to build a data structure for our control volumes. To create the control volumes we need to be able to query the mesh about connectivity information and geometric information as well. That is things like all triangles that share the same vertex or the outward unit normals of a triangle and so on.\n",
    "\n",
    "To make this easy we provide a MeshInfo class that encapsulates simple libigl functionality into a more human readiable interface.\n",
    "\n",
    "It is a great help to know how to \"jump\" around neighbors in a mesh data structure. We encourage therefore that students spend a bit of time getting into how this works so they can extend and customize their data structures as they need to with little effort."
   ]
  },
  {
   "cell_type": "code",
   "execution_count": 4,
   "metadata": {
    "pycharm": {
     "name": "#%%\n"
    }
   },
   "outputs": [],
   "source": [
    "class MeshInfo:\n",
    "    \n",
    "    def __init__(self, V, T):        \n",
    "        self.A = compute_triangle_areas(V,T)\n",
    "        if np.any(np.where(self.A<=0)):\n",
    "            raise ValueError('Triangle with negative orientation exist.')\n",
    "        bc = igl.barycenter(V,T)\n",
    "        E = igl.edges(T)\n",
    "        TT, _ = igl.triangle_triangle_adjacency(T)\n",
    "        VT, NI = igl.vertex_triangle_adjacency(T, len(V))\n",
    "        VV = igl.adjacency_list(T)\n",
    "        self.V = V    # Vertices\n",
    "        self.T = T    # Triangles\n",
    "        self.E = E    # Edges\n",
    "        self.TT = TT  # Triangle neighbors of triangles\n",
    "        self.VT = VT  # Triangle neighbors of vertices\n",
    "        self.NI = NI  # Vertex neighbor indices used to extract triangle neighbors of vertices\n",
    "        self.VV = VV  # Vertex neighbors of vertices\n",
    "        self.bc = bc  # Barycenters of triangles        \n",
    "        mask = np.zeros(len(V),dtype=np.int)\n",
    "        mask[igl.boundary_loop(T)] = 1\n",
    "        self.boundary_vertex = mask # Boundary mask of vertices, if 1 then a vertex is boundary otherwise it is interior.\n",
    "        \n",
    "    def get_triangles_of_vertex(self, i):\n",
    "        start = self.NI[i]\n",
    "        end = self.NI[i+1]\n",
    "        return self.VT[ start:end]\n",
    "\n",
    "    def get_triangles_of_triangle(self, t):\n",
    "        return self.TT[t]\n",
    "    \n",
    "    def get_triangle_center(self,t):\n",
    "        return self.bc[t]\n",
    "    \n",
    "    def get_vertices_of_vertex(self, i):\n",
    "        return self.VV[i]\n",
    "    \n",
    "    def get_triangle_area(self,t):\n",
    "        return self.A[t]\n",
    "    \n",
    "    def get_edge_vector_of_triangle(self, t, e):\n",
    "        i = self.T[t,e]\n",
    "        j = self.T[t,(e+1)%3]\n",
    "        vi = self.V[i,:].flatten()\n",
    "        vj = self.V[j,:].flatten()\n",
    "        u = (vj-vi).flatten()\n",
    "        return u, (vi+vj)/2\n",
    "\n",
    "    def get_outward_normal_of_triangle(self, t, e):\n",
    "        u, m = self.get_edge_vector_of_triangle(t,e)\n",
    "        n = -hat(u)/np.linalg.norm(u)\n",
    "        return n, m\n",
    "    \n",
    "    def get_triangle_triangle_segment(self, t, e):\n",
    "        n = self.TT[t,e]\n",
    "        if n>0:\n",
    "            ct = self.bc[t].flatten()\n",
    "            cn = self.bc[n].flatten()\n",
    "            return cn-ct, (cn+ct)/2\n",
    "        return None, None    \n",
    "\n",
    "    def get_opposing_triangle(self, t, v):\n",
    "        e = (v+1)%3\n",
    "        return self.TT[t,e]\n",
    "    \n",
    "    def is_boundary_vertex(self,v):\n",
    "        if self.boundary_vertex[v]==1:\n",
    "            return True\n",
    "        return False"
   ]
  },
  {
   "cell_type": "markdown",
   "metadata": {
    "pycharm": {
     "name": "#%% md\n"
    }
   },
   "source": [
    "We will now run a simplel test example of the mesh generation and mesh info data structure to verify that things are working as expected. \n",
    "\n",
    "In particular we want to make sure we have no ears in the mesh, and all neighborhood information are in order too."
   ]
  },
  {
   "cell_type": "code",
   "execution_count": 6,
   "metadata": {
    "pycharm": {
     "name": "#%%\n"
    }
   },
   "outputs": [
    {
     "data": {
      "application/vnd.jupyter.widget-view+json": {
       "model_id": "9b039dcbd93b4bba868600cb7c1606d4",
       "version_major": 2,
       "version_minor": 0
      },
      "text/plain": [
       "Canvas(toolbar=Toolbar(toolitems=[('Home', 'Reset original view', 'home', 'home'), ('Back', 'Back to previous …"
      ]
     },
     "metadata": {},
     "output_type": "display_data"
    },
    {
     "name": "stdout",
     "output_type": "stream",
     "text": [
      "vertex  0  has triangle neighbors  [0 1]\n",
      "vertex  1  has triangle neighbors  [0 2]\n",
      "vertex  2  has triangle neighbors  [2 3]\n",
      "vertex  3  has triangle neighbors  [1 4]\n",
      "vertex  4  has triangle neighbors  [0 1 2 3 4 5 6 7]\n",
      "vertex  5  has triangle neighbors  [3 6]\n",
      "vertex  6  has triangle neighbors  [4 5]\n",
      "vertex  7  has triangle neighbors  [5 7]\n",
      "vertex  8  has triangle neighbors  [6 7]\n",
      "Triangle  0  has triangle neighbors  [-1  2  1]\n",
      "Triangle  1  has triangle neighbors  [ 0  4 -1]\n",
      "Triangle  2  has triangle neighbors  [ 0 -1  3]\n",
      "Triangle  3  has triangle neighbors  [ 2 -1  6]\n",
      "Triangle  4  has triangle neighbors  [-1  1  5]\n",
      "Triangle  5  has triangle neighbors  [ 4  7 -1]\n",
      "Triangle  6  has triangle neighbors  [ 3 -1  7]\n",
      "Triangle  7  has triangle neighbors  [ 6 -1  5]\n",
      "vertex  0  has vertex neighbors  [1, 3, 4]\n",
      "vertex  1  has vertex neighbors  [0, 2, 4]\n",
      "vertex  2  has vertex neighbors  [1, 4, 5]\n",
      "vertex  3  has vertex neighbors  [0, 4, 6]\n",
      "vertex  4  has vertex neighbors  [0, 1, 2, 3, 5, 6, 7, 8]\n",
      "vertex  5  has vertex neighbors  [2, 4, 8]\n",
      "vertex  6  has vertex neighbors  [3, 4, 7]\n",
      "vertex  7  has vertex neighbors  [4, 6, 8]\n",
      "vertex  8  has vertex neighbors  [4, 5, 7]\n"
     ]
    }
   ],
   "source": [
    "V, T = make_beam_mesh(1.0,1.0,(2,2))\n",
    "\n",
    "info = MeshInfo(V,T)\n",
    "\n",
    "fig = plt.figure()\n",
    "plt.triplot(info.V[:,0],info.V[:,1],info.T,color='r')\n",
    "for v in range(len(V)):\n",
    "    print('vertex ',v , ' has triangle neighbors ',info.get_triangles_of_vertex(v))\n",
    "    plt.text(info.V[v,0],info.V[v,1], str(v))\n",
    "for t in range(len(T)):\n",
    "    print('Triangle ',t , ' has triangle neighbors ',info.get_triangles_of_triangle(t))\n",
    "    c = info.get_triangle_center(t)\n",
    "    plt.text(c[0],c[1], str(t))\n",
    "for v in range(len(V)):\n",
    "    print('vertex ',v , ' has vertex neighbors ',info.get_vertices_of_vertex(v))\n",
    "for t in range(len(T)):\n",
    "    c = info.get_triangle_center(t)\n",
    "    for e in range(3):\n",
    "        u, m = info.get_edge_vector_of_triangle(t,e)\n",
    "        v = m - 0.5*u\n",
    "        w = m + 0.5*u\n",
    "        m = (m-c)*0.9 + c\n",
    "        v = (v-c)*0.9 + c\n",
    "        w = (w-c)*0.9 + c\n",
    "        plt.plot([v[0], w[0]], [v[1], w[1]] )\n",
    "for t in range(len(T)):\n",
    "    for e in range(3):\n",
    "        n, m = info.get_outward_normal_of_triangle(t,e)\n",
    "        plt.plot([m[0], 0.1*n[0]+m[0]], [m[1], 0.1*n[1]+m[1]] )\n",
    "        plt.plot(m[0], m[1],'ko')\n",
    "for t in range(len(T)):\n",
    "    for e in range(3):\n",
    "        u, m = info.get_triangle_triangle_segment(t,e)\n",
    "        if not u is None: \n",
    "            v = m - 0.5*u\n",
    "            w = m + 0.5*u\n",
    "            plt.plot([v[0], w[0]], [v[1], w[1]] )\n",
    "            plt.plot(m[0], m[1],'kx')\n",
    "plt.show()    "
   ]
  },
  {
   "cell_type": "markdown",
   "metadata": {
    "pycharm": {
     "name": "#%% md\n"
    }
   },
   "source": [
    "# Creating Vertex-centered Control Volumes\n",
    "We may now use the mesh information functionality to quickly generate a simple control volume data structure.\n",
    "\n",
    "We will take a rather brute-force approach and simply create a chunk of vertex-related information that is very specific to the simulation method we will immplement here.\n",
    "\n",
    "We will exploit one very smart trick here which is to make a cyclic permulation a local copy of neighboring triangles such that the first index of each triangle is the vertex that they all have in common.\n",
    "\n",
    "This is cleaver later on at run-time as we have explicit knowledge of where the two other vertices of each triangle is located in the vertex neighborhood. Further, it enable us to deduce a CCW order of triangles around a vertex. Although in this example we have little use of this knowledge."
   ]
  },
  {
   "cell_type": "code",
   "execution_count": 7,
   "metadata": {
    "pycharm": {
     "name": "#%%\n"
    }
   },
   "outputs": [],
   "source": [
    "def get_cyclic_permuation(v, triangle):\n",
    "    i = triangle[0]\n",
    "    j = triangle[1]\n",
    "    k = triangle[2]\n",
    "    if i==v:\n",
    "        return [i, j, k]\n",
    "    if j==v:\n",
    "        return [j, k, i]\n",
    "    if k==v:\n",
    "        return [k, i, j]\n",
    "    return [-1, -1, -1]\n",
    "\n",
    "\n",
    "def get_ccw_triangle_order(v, T):\n",
    "    for t in range(len(T)):\n",
    "        T[t,:] = get_cyclic_permuation(v, T[t,:])    \n",
    "    if len(T) == 1:\n",
    "        ccw_order = np.array([0], dtype=np.int).flatten()\n",
    "    else:\n",
    "        ccw_order = []\n",
    "        next_order = -np.ones( (len(T), ), dtype=np.int )\n",
    "        prev_order = -np.ones( (len(T), ), dtype=np.int )\n",
    "        for s in range(len(T)):\n",
    "            A = T[s,:]\n",
    "            for t in range(len(T)):\n",
    "                B = T[t,:]\n",
    "                if A[2]==B[1]:\n",
    "                    next_order[s] = t\n",
    "                if A[1]==B[2]:\n",
    "                    prev_order[s] = t\n",
    "        if np.any(prev_order<0):\n",
    "            i = np.where(prev_order<0)[0]\n",
    "            while i>=0:\n",
    "                ccw_order.append(i)\n",
    "                i = next_order[i]\n",
    "        else:\n",
    "            i = 0\n",
    "            ccw_order.append(i)\n",
    "            i = next_order[i]\n",
    "            while i>0:\n",
    "                ccw_order.append(i)\n",
    "                i = next_order[i]            \n",
    "        ccw_order = np.array(ccw_order, dtype=np.int).flatten()\n",
    "    return ccw_order\n",
    "    \n",
    "    \n",
    "class VertexControlVolume:\n",
    "\n",
    "    def __init__(self, v, info):\n",
    "        self.v = v\n",
    "        self.c = info.V[v,:].flatten()\n",
    "        self.labels = info.get_triangles_of_vertex(v)\n",
    "        K = len(self.labels)        \n",
    "        self.K = K\n",
    "        self.boundary = info.is_boundary_vertex(v)\n",
    "        \n",
    "        T = info.T[self.labels,:]\n",
    "        for t in range(len(T)):\n",
    "            T[t,:] = get_cyclic_permuation(v, T[t,:])    \n",
    "        \n",
    "        self.Lij = np.zeros(( K, ), dtype=np.float64 )\n",
    "        self.Lik = np.zeros(( K, ), dtype=np.float64 )\n",
    "        self.Nij = np.zeros(( K, 2), dtype=np.float64 )\n",
    "        self.Nik = np.zeros(( K, 2), dtype=np.float64 )\n",
    "        self.Sij = np.zeros(( K, 2), dtype=np.float64 )\n",
    "        self.Sik = np.zeros(( K, 2), dtype=np.float64 )\n",
    "        self.P = np.zeros(( K, 2), dtype=np.float64 )\n",
    "        self.A = np.sum(info.A[self.labels])/3.0\n",
    "        for e in range(K):\n",
    "            i = T[e,0]\n",
    "            j = T[e,1]\n",
    "            k = T[e,2]\n",
    "            \n",
    "            pi = info.V[i,:]\n",
    "            pj = info.V[j,:]\n",
    "            pk = info.V[k,:]\n",
    "            \n",
    "            Eij = (pj-pi)\n",
    "            Lij = np.linalg.norm(Eij)\n",
    "            Nij = -hat(Eij)/Lij\n",
    "            \n",
    "            Eik = (pk-pi)\n",
    "            Lik = np.linalg.norm(Eik)\n",
    "            Nik = hat(Eik)/Lik\n",
    "        \n",
    "            self.Lij[e] = Lij/2\n",
    "            self.Lik[e] = Lik/2\n",
    "            self.Nij[e,:] = Nij\n",
    "            self.Nik[e,:] = Nik\n",
    "            self.Sij[e,:] = Eij/2\n",
    "            self.Sik[e,:] = Eik/2\n",
    "            self.P[e,:] = (pi+pj+pk)/3"
   ]
  },
  {
   "cell_type": "markdown",
   "metadata": {
    "pycharm": {
     "name": "#%% md\n"
    }
   },
   "source": [
    "Now we will do a little debug rendering to test if the information in the new control volume is created correctly."
   ]
  },
  {
   "cell_type": "code",
   "execution_count": 10,
   "metadata": {
    "pycharm": {
     "name": "#%%\n"
    }
   },
   "outputs": [
    {
     "data": {
      "application/vnd.jupyter.widget-view+json": {
       "model_id": "87fea623555a422ea5b7685d865c687a",
       "version_major": 2,
       "version_minor": 0
      },
      "text/plain": [
       "Canvas(toolbar=Toolbar(toolitems=[('Home', 'Reset original view', 'home', 'home'), ('Back', 'Back to previous …"
      ]
     },
     "metadata": {},
     "output_type": "display_data"
    }
   ],
   "source": [
    "info = MeshInfo(V,T)\n",
    "\n",
    "CVs = []\n",
    "for v in range(len(V)):\n",
    "    cv = VertexControlVolume(v,info)\n",
    "    CVs.append(cv)            \n",
    "\n",
    "fig = plt.figure()\n",
    "plt.triplot(info.V[:,0],info.V[:,1],info.T,color='b')\n",
    "for v in range(len(info.V)):\n",
    "    cv = CVs[v]\n",
    "    plt.plot(cv.c[0],cv.c[1],'ko')\n",
    "    \n",
    "    for e in range(cv.K):\n",
    "        start = cv.c\n",
    "        end = cv.c + cv.Sij[e]\n",
    "        plt.plot([start[0], end[0]],[start[1], end[1]],'-r')\n",
    "                   \n",
    "        start = cv.c\n",
    "        end = cv.c + cv.Sik[e]\n",
    "        plt.plot([start[0], end[0]],[start[1], end[1]],'-g')\n",
    "\n",
    "        start = cv.c+cv.Sij[e]/2\n",
    "        end = cv.c+cv.Sij[e]/2 + cv.Nij[e]*0.1\n",
    "        plt.plot([start[0], end[0]],[start[1], end[1]],'-bs')\n",
    "                   \n",
    "        start = cv.c+cv.Sik[e]/2\n",
    "        end = cv.c+cv.Sik[e]/2 + cv.Nik[e]*0.1\n",
    "        plt.plot([start[0], end[0]],[start[1], end[1]],'-bs')\n",
    "plt.show()    "
   ]
  },
  {
   "cell_type": "markdown",
   "metadata": {
    "pycharm": {
     "name": "#%% md\n"
    }
   },
   "source": [
    "Next will will render the control volume shapes so we can see how they look like. They have a very specific shape and it is easy to verify by visual inspection if they have been created correctly."
   ]
  },
  {
   "cell_type": "code",
   "execution_count": 13,
   "metadata": {
    "pycharm": {
     "name": "#%%\n"
    }
   },
   "outputs": [
    {
     "data": {
      "application/vnd.jupyter.widget-view+json": {
       "model_id": "e84559886a2c4688b58b1026e22fba71",
       "version_major": 2,
       "version_minor": 0
      },
      "text/plain": [
       "Canvas(toolbar=Toolbar(toolitems=[('Home', 'Reset original view', 'home', 'home'), ('Back', 'Back to previous …"
      ]
     },
     "metadata": {},
     "output_type": "display_data"
    }
   ],
   "source": [
    "V, T = make_beam_mesh(6.0,2.0,(12,4))\n",
    "\n",
    "info = MeshInfo(V,T)\n",
    "\n",
    "CVs = []\n",
    "for v in range(len(V)):\n",
    "    cv = VertexControlVolume(v,info)\n",
    "    CVs.append(cv)\n",
    "\n",
    "fig = plt.figure()\n",
    "ax = plt.subplot(111)\n",
    "for v in range(len(CVs)):\n",
    "    cv = CVs[v]\n",
    "    plt.plot(cv.c[0],cv.c[1],'ko')\n",
    "    for e in range(cv.K):\n",
    "        start = cv.c + cv.Sij[e]\n",
    "        end = cv.P[e]\n",
    "        plt.plot([start[0], end[0]],[start[1], end[1]],'-r')\n",
    "        start = cv.c + cv.Sik[e]\n",
    "        end = cv.P[e]\n",
    "        plt.plot([start[0], end[0]],[start[1], end[1]],'-r')\n",
    "ax.axis('equal')\n",
    "plt.show()"
   ]
  },
  {
   "cell_type": "markdown",
   "metadata": {
    "pycharm": {
     "name": "#%% md\n"
    }
   },
   "source": [
    "# Creating a 2D Hyperelastic Simualtor\n",
    "\n",
    "This is your task to implement this..."
   ]
  },
  {
   "cell_type": "code",
   "execution_count": null,
   "metadata": {
    "pycharm": {
     "name": "#%%\n"
    }
   },
   "outputs": [],
   "source": []
  }
 ],
 "metadata": {
  "kernelspec": {
   "display_name": "Python 3",
   "language": "python",
   "name": "python3"
  },
  "language_info": {
   "codemirror_mode": {
    "name": "ipython",
    "version": 3
   },
   "file_extension": ".py",
   "mimetype": "text/x-python",
   "name": "python",
   "nbconvert_exporter": "python",
   "pygments_lexer": "ipython3",
   "version": "3.9.2"
  }
 },
 "nbformat": 4,
 "nbformat_minor": 2
}
