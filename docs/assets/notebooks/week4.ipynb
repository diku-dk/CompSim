{
 "cells": [
  {
   "attachments": {},
   "cell_type": "markdown",
   "metadata": {
    "pycharm": {
     "name": "#%% md\n"
    }
   },
   "source": [
    "# Computational Methods in Simulation (CMIS) Week 4\n",
    "This notebook is intended to support your learning process. It contains exercises that help you to understand the material. "
   ]
  },
  {
   "attachments": {},
   "cell_type": "markdown",
   "metadata": {
    "pycharm": {
     "name": "#%% md\n"
    }
   },
   "source": [
    "This week is based on Slides 19 - follow the detailed steps below to learn about the finite element method:\n",
    "\n",
    "* 1D Poisson Problem\n",
    "    * Make an implementation of the 1D example. Use the values $x_1 = 1$, $x_n = 2$, $\\Delta x = 0.1$, $a = 1$, $b = 2$, $c = 0$.\n",
    "    * Start by making a sketch on paper showing how you expect $y(x)$ to look like.\n",
    "    * Discuss which parts of the algorithm that is embarrassingly parallel. \n",
    "    * If you have extra time consider rewriting the parts that have race conditions to become embarrassingly parallel.\n",
    "    * Consider using an iterative method (like Conjugate Gradient) for solving the reduced system, can you suggest any optimizations? (Hint: do not actually assemble the global matrix)\n",
    "\n",
    "\n",
    "* 2D Poisson Problem\n",
    "    * Derive the formula for $K_e$ and $f_e$ in full detail for the 2D example.\n",
    "    * Make an implementation of the 2D example on a rectangular domain that is 6-by-2 in size.\n",
    "    * Set $a = 1$ on the left edge of the rectangle and $a = 2$ on the right size.\n",
    "    * Use $c = 0$\n",
    "    * Treat boundary conditions as point wise conditions\n",
    "    * Discuss from a computer scientist viewpoint which steps are the same and which steps that are different compared to the 1D example."
   ]
  },
  {
   "attachments": {},
   "cell_type": "markdown",
   "metadata": {
    "pycharm": {
     "name": "#%% md\n"
    }
   },
   "source": [
    "## Detailed Expected Learning Objectives of this Week\n",
    "\n",
    "* Finite Element Method (FEM) Part 1 (Slides 19)\n",
    "    * Explain the steps of the FEM method.\n",
    "    * Account for terminology such as trial and shape/basis functions.\n",
    "    * Explain the consequence of changing grid spacing, especially from uniform to non-uniform grid spacing, within the FEM method and why one would choose on eor the other\n",
    "    * Apply the steps of FEM method from simple 1D and/or 2D problems like Heat diffusion.\n",
    "    * Apply experimental verification to ones implementation of a FEM."
   ]
  },
  {
   "cell_type": "code",
   "execution_count": null,
   "metadata": {
    "pycharm": {
     "name": "#%%\n"
    }
   },
   "outputs": [],
   "source": [
    "%matplotlib widget"
   ]
  },
  {
   "cell_type": "code",
   "execution_count": null,
   "metadata": {
    "pycharm": {
     "name": "#%%\n"
    }
   },
   "outputs": [],
   "source": [
    "import igl\n",
    "import meshplot as mp\n",
    "import numpy as np\n",
    "import matplotlib.pyplot as plt"
   ]
  },
  {
   "attachments": {},
   "cell_type": "markdown",
   "metadata": {
    "pycharm": {
     "name": "#%% md\n"
    }
   },
   "source": [
    "# The 1D Poisson Problem solved with Linear Finite Element Method\n",
    "\n",
    "We first compute an array Ke of local elementwise values. Aftewards we assemble the local values into a global martix and vector. First we ignore boundary conditions and simply just fill in values. We expect to have one-zero eigenvalue of this type of problem as we have not yet added boundary conditions. Due to precision and round-off errors the numerical computed eigenvalues may not be exactly zero but close to machine epsilon."
   ]
  },
  {
   "cell_type": "code",
   "execution_count": null,
   "metadata": {
    "pycharm": {
     "name": "#%%\n"
    }
   },
   "outputs": [],
   "source": [
    "dx = 0.1\n",
    "x  = np.linspace(1.0, 2.0, 10)\n",
    "N  = len(x)\n",
    "Ke = np.zeros((2,(N-1)*2),dtype=np.float64)  \n",
    "K  = np.zeros((N,N),dtype=np.float64)\n",
    "f  = np.zeros((N,),dtype=np.float64)\n",
    "\n",
    "for e in range(N-1):\n",
    "    i = e\n",
    "    j = i+1\n",
    "    \n",
    "    # TODO - compute Ke\n",
    "\n",
    "for e in range(N-1):\n",
    "    i = e\n",
    "    j = i+1\n",
    "    \n",
    "    # TODO - Assemble Ke into global K"
   ]
  },
  {
   "attachments": {},
   "cell_type": "markdown",
   "metadata": {
    "pycharm": {
     "name": "#%% md\n"
    }
   },
   "source": [
    "Before doing more we want to verify if the assembly process was done correctly. We do this by studying the matrix fill pattern and the eigenvalue spectrum. "
   ]
  },
  {
   "cell_type": "code",
   "execution_count": null,
   "metadata": {
    "pycharm": {
     "name": "#%%\n"
    }
   },
   "outputs": [],
   "source": [
    "fig = plt.figure()\n",
    "ax = plt.subplot(111)\n",
    "plt.spy(K);\n",
    "ax.set_title('Fill pattern of matrix');\n",
    "ax.set_ylabel('Row index');\n",
    "ax.set_xlabel('Column index');\n",
    "plt.show()\n",
    "\n",
    "fig = plt.figure()\n",
    "d, _ = np.linalg.eig(K)\n",
    "plt.plot(np.sort( d ) );\n",
    "ax.set_title('Eigenvalues of matrix');\n",
    "ax.set_xlabel('Eigenvalue Index')\n",
    "ax.set_ylabel('Value');\n",
    "plt.show()"
   ]
  },
  {
   "attachments": {},
   "cell_type": "markdown",
   "metadata": {
    "pycharm": {
     "name": "#%% md\n"
    }
   },
   "source": [
    "After we have verified the assembly was done correctly we can apply boundary conditions. After we have added the boundary conditions we have reduced the number of variables to solve for."
   ]
  },
  {
   "cell_type": "code",
   "execution_count": null,
   "metadata": {
    "pycharm": {
     "name": "#%%\n"
    }
   },
   "outputs": [],
   "source": [
    "a = 1;\n",
    "b = 2;\n",
    "\n",
    "indices = np.array([0, N-1],dtype=np.int)\n",
    "values  = np.array([a, b],dtype=np.float64)\n",
    "\n",
    "F = np.setdiff1d(np.arange(N), indices)\n",
    "\n",
    "for i in range(len(indices)):\n",
    "    index = indices[i]\n",
    "    value = values[i]  \n",
    "  \n",
    "    # TODO - Implement modifications for adding boundary conditions\n",
    "\n",
    "y = np.zeros(f.shape, dtype=np.float64)\n",
    "\n",
    "y[indices] = values\n",
    "\n",
    "KFF = K[F,:][:,F]\n",
    "fF  = f[F]\n",
    "\n",
    "y[F] = np.linalg.solve(KFF, fF)"
   ]
  },
  {
   "attachments": {},
   "cell_type": "markdown",
   "metadata": {
    "pycharm": {
     "name": "#%% md\n"
    }
   },
   "source": [
    "We can now plot the solution. We expect a straight line going from a-value to b-value."
   ]
  },
  {
   "cell_type": "code",
   "execution_count": null,
   "metadata": {
    "pycharm": {
     "name": "#%%\n"
    }
   },
   "outputs": [],
   "source": [
    "fig = plt.figure(3)\n",
    "ax = plt.subplot(111)\n",
    "plt.plot(x,y,'b')\n",
    "ax.set_title('The approximate solution')\n",
    "ax.set_xlabel('x')\n",
    "ax.set_ylabel('y')\n",
    "plt.show()"
   ]
  },
  {
   "attachments": {},
   "cell_type": "markdown",
   "metadata": {
    "pycharm": {
     "name": "#%% md\n"
    }
   },
   "source": [
    "# The 2D Poisson Problem solved with linear Finite Element Method\n",
    "The 2D Poisson problem procedes in nearly the same way excpet that having both x and y coordinates increases the dimensionality slightly.\n",
    "\n",
    "We will reuse the beam mesh generator from week 3 to create a computational mesh for the 2D problem"
   ]
  },
  {
   "cell_type": "code",
   "execution_count": null,
   "metadata": {
    "pycharm": {
     "name": "#%%\n"
    }
   },
   "outputs": [],
   "source": [
    "def make_beam_mesh(width, height, shape):\n",
    "    x0 = -width/2.0\n",
    "    y0 = -height/2.0\n",
    "    I  = shape[0]\n",
    "    J  = shape[1]\n",
    "    dx = width/float(I)\n",
    "    dy = height/float(J)\n",
    "    V = np.zeros(((I+1)*(J+1),2),dtype=np.float64)\n",
    "    for j in range(J+1):\n",
    "        for i in range(I+1):\n",
    "            k = i + j*(I+1)\n",
    "            V[k,0] = x0 + i*dx\n",
    "            V[k,1] = y0 + j*dy\n",
    "    T = np.zeros((2*I*J,3),dtype=np.int32)\n",
    "    for j in range(J):\n",
    "        for i in range(I):\n",
    "            k00 = (i  ) + (j  )*(I+1)\n",
    "            k01 = (i+1) + (j  )*(I+1)\n",
    "            k10 = (i  ) + (j+1)*(I+1)\n",
    "            k11 = (i+1) + (j+1)*(I+1)\n",
    "            e = 2*(i + j*I)\n",
    "            if (i+j)%2:\n",
    "                T[e,  :] = (k00,k01,k11)\n",
    "                T[e+1,:] = (k00,k11,k10)\n",
    "            else:\n",
    "                T[e,  :] = (k10,k00,k01)\n",
    "                T[e+1,:] = (k10,k01,k11)                    \n",
    "    return V, T\n",
    "\n",
    "V, T = make_beam_mesh(6.0,2.0,(12,6))"
   ]
  },
  {
   "attachments": {},
   "cell_type": "markdown",
   "metadata": {
    "pycharm": {
     "name": "#%% md\n"
    }
   },
   "source": [
    "We will extend with a little auxiliary function that computes the triangle area for each triangle and return a vector with all triangle area values."
   ]
  },
  {
   "cell_type": "code",
   "execution_count": null,
   "metadata": {
    "pycharm": {
     "name": "#%%\n"
    }
   },
   "outputs": [],
   "source": [
    "def compute_triangle_areas(V,T):\n",
    "    E = len(T) # Total number of triangles in the mesh\n",
    "    A = np.zeros((E,),dtype=np.float64)\n",
    "    for e in range(E):\n",
    "        # Get triangle indices\n",
    "        i = T[e,0]\n",
    "        j = T[e,1]\n",
    "        k = T[e,2]\n",
    "        # Get triangle coordinates\n",
    "        xi = V[i,0]\n",
    "        xj = V[j,0]\n",
    "        xk = V[k,0]\n",
    "        yi = V[i,1]\n",
    "        yj = V[j,1]\n",
    "        yk = V[k,1]    \n",
    "        \n",
    "        dx1 = xk - xj\n",
    "        dy1 = yk - yj\n",
    "        dx2 = xi - xj\n",
    "        dy2 = yi - yj\n",
    "\n",
    "        A[e] =  (dx1*dy2 - dx2*dy1 ) / 2.0\n",
    "    return A\n",
    "\n",
    "A = compute_triangle_areas(V,T)"
   ]
  },
  {
   "attachments": {},
   "cell_type": "markdown",
   "metadata": {
    "pycharm": {
     "name": "#%% md\n"
    }
   },
   "source": [
    "We now have all pieces in place and can start on compute the local element values followed by our assembly process."
   ]
  },
  {
   "cell_type": "code",
   "execution_count": null,
   "metadata": {
    "pycharm": {
     "name": "#%%\n"
    }
   },
   "outputs": [],
   "source": [
    "N = len(V) # Total number of nodes in the mesh\n",
    "E = len(T) # Total number of triangles in the mesh\n",
    "\n",
    "Ke = np.zeros((3,E*3),dtype=np.float64)\n",
    "K  = np.zeros((N,N),dtype=np.float64) \n",
    "f  = np.zeros((N,),dtype=np.float64) \n",
    "\n",
    "for e in range(E):\n",
    "    # Get triangle indices\n",
    "    i = T[e,0]\n",
    "    j = T[e,1]\n",
    "    k = T[e,2]\n",
    "    # Get triangle coordinates\n",
    "    xi = V[i,0]\n",
    "    xj = V[j,0]\n",
    "    xk = V[k,0]\n",
    "    yi = V[i,1]\n",
    "    yj = V[j,1]\n",
    "    yk = V[k,1]    \n",
    "    \n",
    "    # TODO - Compute element matrix and store it in Ke array\n",
    "    Ke[ :, (3*e):3*e+3 ] =  \n",
    "\n",
    "for e in range(E):\n",
    "    # Get global triangle vertex indices\n",
    "    i = T[e,0]\n",
    "    j = T[e,1]\n",
    "    k = T[e,2]\n",
    "    # Local order of vertex coordinates is i j and k. \n",
    "    # This is how local vertex indices (0,1,2) are mapped to global vertex\n",
    "    # indices\n",
    "    gidx = [ i, j,  k]\n",
    "    \n",
    "    # TODO - do assembly of Ke into K\n",
    "\n"
   ]
  },
  {
   "attachments": {},
   "cell_type": "markdown",
   "metadata": {
    "pycharm": {
     "name": "#%% md\n"
    }
   },
   "source": [
    "We visually verify the assembly process by observing the expected symmetry pattern. The eigenvalue analysis should this time show that we have 2 zero eigenvalues."
   ]
  },
  {
   "cell_type": "code",
   "execution_count": null,
   "metadata": {
    "pycharm": {
     "name": "#%%\n"
    }
   },
   "outputs": [],
   "source": [
    "fig = plt.figure()\n",
    "ax = plt.subplot(111)\n",
    "plt.spy(K);\n",
    "ax.set_title('Fill pattern of matrix');\n",
    "ax.set_ylabel('Row index');\n",
    "ax.set_xlabel('Column index');\n",
    "plt.show()\n",
    "\n",
    "fig = plt.figure()\n",
    "d, _ = np.linalg.eig(K)\n",
    "plt.plot(np.sort( d ) );\n",
    "ax.set_title('Eigenvalues of matrix');\n",
    "ax.set_xlabel('Eigenvalue Index')\n",
    "ax.set_ylabel('Value');\n",
    "plt.show()"
   ]
  },
  {
   "attachments": {},
   "cell_type": "markdown",
   "metadata": {
    "pycharm": {
     "name": "#%% md\n"
    }
   },
   "source": [
    "We may now proceed as before adding boundary conditions"
   ]
  },
  {
   "cell_type": "code",
   "execution_count": null,
   "metadata": {
    "pycharm": {
     "name": "#%%\n"
    }
   },
   "outputs": [],
   "source": [
    "a = 1;\n",
    "b = 2;\n",
    "\n",
    "left = np.array( np.where(V[:,0] < -2.9), dtype=np.int).flatten()\n",
    "right = np.array( np.where(V[:,0] >  2.9), dtype=np.int).flatten()\n",
    "\n",
    "left_values = np.ones( left.shape, dtype=np.float64)*a\n",
    "right_values = np.ones( right.shape, dtype=np.float64)*b\n",
    "\n",
    "indices = np.hstack((left, right))\n",
    "values  = np.hstack((left_values, right_values))\n",
    "\n",
    "F = np.setdiff1d(np.arange(N), indices)\n",
    "\n",
    "for i in range(len(indices)):\n",
    "    index = indices[i]\n",
    "    value = values[i]  \n",
    "  \n",
    "    # TODO - Implement modifications for adding boundary conditions\n",
    "\n",
    "y = np.zeros(f.shape, dtype=np.float64)\n",
    "\n",
    "y[indices] = values\n",
    "\n",
    "KFF = K[F,:][:,F]\n",
    "fF  = f[F]\n",
    "\n",
    "y[F] = np.linalg.solve(KFF, fF)"
   ]
  },
  {
   "attachments": {},
   "cell_type": "markdown",
   "metadata": {
    "pycharm": {
     "name": "#%% md\n"
    }
   },
   "source": [
    "Finally we can visualize the solution that should show a linear ramp from a to b."
   ]
  },
  {
   "cell_type": "code",
   "execution_count": null,
   "metadata": {
    "pycharm": {
     "name": "#%%\n"
    }
   },
   "outputs": [],
   "source": [
    "fig = plt.figure()\n",
    "\n",
    "plt.tripcolor(V[:,0],V[:,1],T,y)\n",
    "plt.triplot(V[:,0],V[:,1],T)\n",
    "plt.colorbar()\n",
    "plt.show()"
   ]
  },
  {
   "attachments": {},
   "cell_type": "markdown",
   "metadata": {
    "pycharm": {
     "name": "#%% md\n"
    }
   },
   "source": [
    "That is all folks"
   ]
  }
 ],
 "metadata": {
  "kernelspec": {
   "display_name": "Python 3",
   "language": "python",
   "name": "python3"
  },
  "language_info": {
   "codemirror_mode": {
    "name": "ipython",
    "version": 3
   },
   "file_extension": ".py",
   "mimetype": "text/x-python",
   "name": "python",
   "nbconvert_exporter": "python",
   "pygments_lexer": "ipython3",
   "version": "3.7.12"
  }
 },
 "nbformat": 4,
 "nbformat_minor": 2
}
