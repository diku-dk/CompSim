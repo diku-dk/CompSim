{
 "cells": [
  {
   "cell_type": "markdown",
   "metadata": {
    "pycharm": {
     "name": "#%% md\n"
    }
   },
   "source": [
    "# Computational Methods in Simulation (CMIS) Week 1\n",
    "This notebook is intended to support your learning process. It contains exercises that help you to understand the material. "
   ]
  },
  {
   "cell_type": "markdown",
   "metadata": {
    "pycharm": {
     "name": "#%% md\n"
    }
   },
   "source": [
    "This week is based on Slides 11 - follow the detailed steps below to learn about finite difference approximations and it's applications:\n",
    "\n",
    "* Use a 4-by-4 grid for the small 2D Toy example from page 15 and apply the boundary conditions ∂u/∂x = 0  On all vertical boundaries and ∂u/∂y = 0 On all horizontal boundaries. Let f(x,y)=x+y and κ=2. \n",
    "* Draw the computational mesh\n",
    "* Derive update formulas for the ghost nodes\n",
    "* Derive update formulas for all domain nodes\n",
    "* Explain how the approximation equations from the governing equations and boundary conditions are mapped into a matrix using index sets.\n",
    "* Write code that assembles the full matrix system.\n",
    "* Write code that assembles the corresponding matrix rows for the domain nodes.\n",
    "* Write code that assembles the corresponding matrix rows for the ghost nodes\n",
    "* Examine the fill pattern of the sub-block matrices from the Toy example. What can you say about them?\n",
    "* Examine the eigenvalues of the full matrix system\n",
    "* Speculate whether you can solve this linear system or not."
   ]
  },
  {
   "cell_type": "markdown",
   "metadata": {
    "pycharm": {
     "name": "#%% md\n"
    }
   },
   "source": [
    "## Detailed Expected Learning Objectives of this Week\n",
    "\n",
    "* Finite Difference Methods (FDM) Part 1 (Lecture slides number 11)\n",
    "   * Explain the idea of using Finite Difference Approximations.\n",
    "   * Derive the approximation for the 1st derivative using FD/BD/CD from the appropriate Taylor series expansions, derive the approximation of the 2nd derivative using CD from appropriate Taylor series expansion.\n",
    "   * Define common terminology: A stencil, update scheme, computational mesh, matrix assembly etc.\n",
    "    * Apply boundary conditions through FD/BD on boundary or ghost nodes.\n",
    "    * Discuss pros and cons of an update scheme versus matrix assembly."
   ]
  },
  {
   "cell_type": "code",
   "execution_count": 1,
   "metadata": {
    "pycharm": {
     "name": "#%%\n"
    }
   },
   "outputs": [],
   "source": [
    "%matplotlib widget"
   ]
  },
  {
   "cell_type": "code",
   "execution_count": 2,
   "metadata": {
    "pycharm": {
     "name": "#%%\n"
    }
   },
   "outputs": [],
   "source": [
    "import numpy as np\n",
    "import matplotlib.pyplot as plt\n",
    "from mpl_toolkits import mplot3d"
   ]
  },
  {
   "cell_type": "markdown",
   "metadata": {
    "pycharm": {
     "name": "#%% md\n"
    }
   },
   "source": [
    "## The 2D TOY PDE problem\n",
    "\n",
    "Solve \n",
    "\n",
    "$\\nabla^2 u - k^2 u = f$,\n",
    "\n",
    "given known $k > 0$ and $f(x,y)$\n",
    "\n",
    "Use \n",
    "\n",
    "$\\frac{\\partial u}{\\partial x} = 0$ \n",
    "\n",
    "for vertical boundaries. Use\n",
    "\n",
    "$\\frac{\\partial u}{\\partial y} = 0$ \n",
    "\n",
    "for horizontal boundaries"
   ]
  },
  {
   "cell_type": "code",
   "execution_count": 3,
   "metadata": {
    "pycharm": {
     "name": "#%%\n"
    }
   },
   "outputs": [
    {
     "data": {
      "application/vnd.jupyter.widget-view+json": {
       "model_id": "6295e38933874f10813afa272bcca656",
       "version_major": 2,
       "version_minor": 0
      },
      "text/plain": [
       "Canvas(toolbar=Toolbar(toolitems=[('Home', 'Reset original view', 'home', 'home'), ('Back', 'Back to previous …"
      ]
     },
     "metadata": {},
     "output_type": "display_data"
    }
   ],
   "source": [
    "I, J = (6,6) # Size of computational domain including ghost boundary\n",
    "\n",
    "# First we compute the x and y coordinates of all nodes in the computational\n",
    "# mesh. Observe that we carefully ensure that the the domain boundary is\n",
    "# half-way between the ghost nodes and the interior boundary nodes.\n",
    "dx     = 1/4;\n",
    "dy     = dx;\n",
    "x = np.linspace(-dx/2,1+dx/2,6)\n",
    "y = np.linspace(-dy/2,1+dy/2,6)\n",
    "\n",
    "[X, Y]  = np.meshgrid(x,y)\n",
    "U      = np.zeros((I,J),dtype=np.float64) \n",
    "k      = 2      # Just some arbitary value\n",
    "f      = X+Y    # Just some arbitary value\n",
    "\n",
    "fig = plt.figure()\n",
    "ax = plt.subplot(111)\n",
    "plt.hlines(y, x[0], x[-1])\n",
    "plt.vlines(x, y[0], y[-1])\n",
    "plt.plot([0, 1, 1, 0, 0],[0,0,1, 1,0], color='r')\n",
    "ax.set_title(\"Computational Grid (black) Domain (red)\")\n",
    "plt.show()"
   ]
  },
  {
   "cell_type": "markdown",
   "metadata": {
    "pycharm": {
     "name": "#%% md\n"
    }
   },
   "source": [
    "## Central diff approx are\n",
    "\n",
    "We know from finite difference approximations that\n",
    "\n",
    "$\\frac{\\partial^2 u}{\\partial x^2} \\approx  \\frac{ u_{i+1,j} - 2 u_{i,j} + u_{i-1,j} }{\\Delta x^2}$\n",
    "\n",
    "$\\frac{\\partial^2 u}{\\partial y^2} \\approx  \\frac{ u_{i,j+1} - 2 u_{i,j} + u_{i,j-1} }{\\Delta y^2}$\n",
    "\n",
    "Hence substituting into the Toy problem we obtain the approximation\n",
    "\n",
    "$\\nabla^2 u - k^2 u \\approx c_{down} \\, u_{i,j-1} +  c_{left}\\, u_{i-1,j} + c_{mid} \\,u_{i,j} + c_{right}\\, u_{i+1,j} +  c_up \\, u_{i,j+1}$\n",
    "\n",
    "For all non-ghost nodes, $0<i<5$ and  $0<j<5$. Observe we assume that the lower left node in the domain has a zero-based index (0,0).\n",
    "\n",
    "By method of equal coefficients we derive equations for the constants in the approximation given above."
   ]
  },
  {
   "cell_type": "code",
   "execution_count": 4,
   "metadata": {
    "pycharm": {
     "name": "#%%\n"
    }
   },
   "outputs": [
    {
     "ename": "SyntaxError",
     "evalue": "invalid syntax (<ipython-input-4-41f4f7ddb817>, line 2)",
     "output_type": "error",
     "traceback": [
      "\u001B[1;36m  File \u001B[1;32m\"<ipython-input-4-41f4f7ddb817>\"\u001B[1;36m, line \u001B[1;32m2\u001B[0m\n\u001B[1;33m    c_left  =\u001B[0m\n\u001B[1;37m              ^\u001B[0m\n\u001B[1;31mSyntaxError\u001B[0m\u001B[1;31m:\u001B[0m invalid syntax\n"
     ]
    }
   ],
   "source": [
    "# TODO - derive the update equations for the constants as in the example in the slides and define them here\n",
    "c_left  = \n",
    "c_right = \n",
    "c_up    = \n",
    "c_down  = \n",
    "c_mid   = "
   ]
  },
  {
   "cell_type": "markdown",
   "metadata": {
    "pycharm": {
     "name": "#%% md\n"
    }
   },
   "source": [
    "Next we will write up all the stencil's simultaneously into a coefficient matrix"
   ]
  },
  {
   "cell_type": "markdown",
   "metadata": {
    "pycharm": {
     "name": "#%% md\n"
    }
   },
   "source": [
    "In the following cells, it is your job to\n",
    "* Add code to assemble matrix A\n",
    "* Add code to assemble right hand side term b\n",
    "* Replace below with u = A\\b"
   ]
  },
  {
   "cell_type": "code",
   "execution_count": null,
   "metadata": {
    "pycharm": {
     "name": "#%%\n"
    }
   },
   "outputs": [],
   "source": [
    "D = [] # Index set of all domain nodes\n",
    "G = [] # Index set of all ghost nodes\n",
    "\n",
    "A = np.zeros((I*J,I*J), dtype=np.float64)  # The coefficient matrix of the full system\n",
    "b = np.zeros((I*J,1), dtype=np.float64)    # The right hand side vector the full system\n",
    "\n",
    "for j in range(1,I-1):\n",
    "    for i in range(1,I-1):\n",
    "        # TODO - Add code to assemble matrix A and right hand side term b using the hints below\n",
    "\n",
    "        # Convert 2D index (i,j) into linear index space\n",
    "\n",
    "\n",
    "\n",
    "        # Fill in the coefficient values into A and b\n",
    "      \n",
    "        \n",
    "        "
   ]
  },
  {
   "cell_type": "markdown",
   "metadata": {
    "pycharm": {
     "name": "#%% md\n"
    }
   },
   "source": [
    "Before we handle the ghost nodes we will examine the assembly of the A-matrix"
   ]
  },
  {
   "cell_type": "code",
   "execution_count": null,
   "metadata": {
    "pycharm": {
     "name": "#%%\n"
    }
   },
   "outputs": [],
   "source": [
    "fig = plt.figure()\n",
    "ax = plt.subplot(111)\n",
    "plt.spy(A)\n",
    "ax.set_title(\"Fill Pattern of A before boundary conditions\")\n",
    "plt.show()"
   ]
  },
  {
   "cell_type": "markdown",
   "metadata": {
    "pycharm": {
     "name": "#%% md\n"
    }
   },
   "source": [
    "Next we investigate the eigenvalues of A. We know that we have 20 ghost nodes that are currently not accounted for. Further, We know that the Laplacian has negative eigenvalues. Hence, as we have 16 internal nodes, we must have 16 negative eigenvalues and 20 zero eigenvalues.\n",
    "\n",
    "In 2D the Laplacian operator has 4 zero eigenvalues (any plane would be a solution, hence 4 numbers are free to choose). One may ask why should we not expect 24 zero-eigenvalues? That is because the 4 eigenmodes are shared by the ghost nodes on this grid. If we did the assembly without grid nodes then we would only find 4 zero eigenvalues."
   ]
  },
  {
   "cell_type": "code",
   "execution_count": null,
   "metadata": {
    "pycharm": {
     "name": "#%%\n"
    }
   },
   "outputs": [],
   "source": [
    "d,_ = np.linalg.eig(A)\n",
    "\n",
    "fig = plt.figure()\n",
    "ax = plt.subplot(111)\n",
    "plt.plot(np.sort(d))\n",
    "ax.set_title(\"Eigenvalues of A\")\n",
    "ax.set_xlabel(\"Index\")\n",
    "ax.set_ylabel(\"Value\")\n",
    "plt.show()"
   ]
  },
  {
   "cell_type": "markdown",
   "metadata": {
    "pycharm": {
     "name": "#%% md\n"
    }
   },
   "source": [
    "We can now continue adding stencils of the ghost nodes. First we handle the left and right boundary conditions at $x=0$ and $x=$. Here we find all $0<j<5$\n",
    "\n",
    "$\\left(\\frac{\\partial u}{\\partial x}\\right)_{\\tfrac{1}{2}, j} \\approx u_{1,j} - u_{0,j} = 0$\n",
    "\n",
    "This means we have $u_{0,j} = u_{1,j}$. Similary for the right bouyndary\n",
    "\n",
    "$\\left(\\frac{\\partial u}{\\partial x}\\right)_{4+\\tfrac{1}{2}, j} \\approx u_{5,j} - u_{4,j} = 0$\n",
    "\n",
    "From this we find  $u_{5,j} = u_{4,j}$"
   ]
  },
  {
   "cell_type": "markdown",
   "metadata": {
    "pycharm": {
     "name": "#%% md\n"
    }
   },
   "source": [
    "In the following cells, you need to add the stencils for the ghost nodes"
   ]
  },
  {
   "cell_type": "code",
   "execution_count": null,
   "metadata": {
    "pycharm": {
     "name": "#%%\n"
    }
   },
   "outputs": [],
   "source": [
    "i = 0\n",
    "for j in range(1,J-1):\n",
    "    # TODO - Now we add the stencil for ghost node (i,j) to A and b\n",
    "    ghost   = \n",
    "    domain  = \n",
    "    A[ghost,ghost] = \n",
    "    A[ghost,domain] = \n",
    "    b[ghost] = \n",
    "    G.append(ghost)\n",
    "i = 5\n",
    "for j in range(1,J-1):\n",
    "    # TODO - Now we add the stencil for ghost node (i,j) to A and b\n",
    "    ghost   = \n",
    "    domain  = \n",
    "    A[ghost,ghost] = \n",
    "    A[ghost,domain] = \n",
    "    b[ghost] = \n",
    "    G.append(ghost)    "
   ]
  },
  {
   "cell_type": "markdown",
   "metadata": {
    "pycharm": {
     "name": "#%% md\n"
    }
   },
   "source": [
    "In a similar fashion we can handle the top and bottom boundaries of our domain\n",
    "\n",
    "Here we find all $0<i<5$\n",
    "\n",
    "$\\left(\\frac{\\partial u}{\\partial y}\\right)_{i, \\tfrac{1}{2}} \\approx u_{i,1} - u_{i,0} = 0$\n",
    "\n",
    "Similary for the top bouyndary\n",
    "\n",
    "$\\left(\\frac{\\partial u}{\\partial y}\\right)_{i,4+\\tfrac{1}{2}} \\approx u_{i,5} - u_{i,4} = 0$"
   ]
  },
  {
   "cell_type": "code",
   "execution_count": null,
   "metadata": {
    "pycharm": {
     "name": "#%%\n"
    }
   },
   "outputs": [],
   "source": [
    "j = 0\n",
    "for i in range(1,I-1):\n",
    "    # TODO - Now we add the stencil for ghost node (i,j) to A and b\n",
    "    ghost = \n",
    "    domain = \n",
    "    A[ghost,ghost] =  \n",
    "    A[ghost,domain] = \n",
    "    b[ghost] = \n",
    "    G.append(ghost)    \n",
    "j = 5\n",
    "for i in range(1,I-1):\n",
    "    # TODO - Now we add the stencil for ghost node (i,j) to A and b\n",
    "    ghost = \n",
    "    domain = \n",
    "    A[ghost,ghost] = \n",
    "    A[ghost,domain] = \n",
    "    b[ghost] = \n",
    "    G.append(ghost)    "
   ]
  },
  {
   "cell_type": "markdown",
   "metadata": {
    "pycharm": {
     "name": "#%% md\n"
    }
   },
   "source": [
    "Ghost corner cells have no influence on grid so we just set them to some values. If we do nothing then we will get into trouble as the A matrix will have a zero row for each corner ghost node. That will make A singular."
   ]
  },
  {
   "cell_type": "code",
   "execution_count": null,
   "metadata": {
    "pycharm": {
     "name": "#%%\n"
    }
   },
   "outputs": [],
   "source": [
    "i=0\n",
    "j=0\n",
    "ghost = I*j+i\n",
    "A[ghost,ghost] = 1\n",
    "b[ghost] = 0\n",
    "G.append(ghost)\n",
    "\n",
    "i=5\n",
    "j=0\n",
    "ghost = I*j+i\n",
    "A[ghost,ghost] = 1\n",
    "b[ghost] = 0\n",
    "G.append(ghost)\n",
    "\n",
    "i=0\n",
    "j=5\n",
    "ghost = I*j+i\n",
    "A[ghost,ghost] = 1\n",
    "b[ghost] = 0\n",
    "G.append(ghost)\n",
    "\n",
    "i=5\n",
    "j=5\n",
    "ghost = I*j+i\n",
    "A[ghost,ghost] = 1\n",
    "b[ghost] = 0\n",
    "G.append(ghost)"
   ]
  },
  {
   "cell_type": "markdown",
   "metadata": {
    "pycharm": {
     "name": "#%% md\n"
    }
   },
   "source": [
    "Now we will verify if our boundary conditions was correctly assembled into the A matrix and that the A matrix is non-singular so we can solve our discrete PDE."
   ]
  },
  {
   "cell_type": "code",
   "execution_count": null,
   "metadata": {
    "pycharm": {
     "name": "#%%\n"
    }
   },
   "outputs": [],
   "source": [
    "fig = plt.figure()\n",
    "ax = plt.subplot(111)\n",
    "plt.spy(A)\n",
    "ax.set_title(\"Fill Pattern of A after boundary conditions\")\n",
    "plt.show()\n",
    "\n",
    "fig = plt.figure()\n",
    "ax = plt.subplot(111)\n",
    "plt.imshow(A)\n",
    "ax.set_title(\"Matrix A shown as an image\")\n",
    "plt.colorbar()\n",
    "plt.show()"
   ]
  },
  {
   "cell_type": "code",
   "execution_count": null,
   "metadata": {
    "pycharm": {
     "name": "#%%\n"
    }
   },
   "outputs": [],
   "source": [
    "d,_ = np.linalg.eig(A)\n",
    "\n",
    "fig = plt.figure()\n",
    "ax = plt.subplot(111)\n",
    "plt.plot(np.sort(d))\n",
    "ax.set_title(\"Eigenvalues of A after boundary conditions\")\n",
    "ax.set_xlabel(\"Index\")\n",
    "ax.set_ylabel(\"Value\")\n",
    "plt.show()"
   ]
  },
  {
   "cell_type": "markdown",
   "metadata": {
    "pycharm": {
     "name": "#%% md\n"
    }
   },
   "source": [
    "Observe that the full matrix A is no longer a symmetric matrix after having added the boundary conditions. Hence, the eigenvalues are now complex numbers and no longer reals."
   ]
  },
  {
   "cell_type": "markdown",
   "metadata": {
    "pycharm": {
     "name": "#%% md\n"
    }
   },
   "source": [
    "Finally we can now solve our discretized PDE problem. Observe that the solution will be given in the one-dimensional index space of the matrix system. Hence, to be able to visualize the solution we must convert back to the 2D index space.\n",
    "\n",
    "When we show the solution we want to clip away the ghost boundary."
   ]
  },
  {
   "cell_type": "code",
   "execution_count": null,
   "metadata": {
    "pycharm": {
     "name": "#%%\n"
    }
   },
   "outputs": [],
   "source": [
    "u = np.linalg.solve(A,b)\n",
    "\n",
    "U = np.zeros((I,J),dtype=np.float64)\n",
    "for i in range(I):\n",
    "    for j in range(J):\n",
    "        idx = I*j+i\n",
    "        U[i,j] = u[idx]\n",
    "\n",
    "\n",
    "fig = plt.figure()\n",
    "ax = fig.add_subplot(111, projection='3d')\n",
    "ax.plot_surface(X[1:I-1,1:J-1],Y[1:I-1,1:J-1],U[1:I-1,1:J-1],cmap=\"magma\", color='0.75', rstride=1, cstride=1)\n",
    "ax.set_title(\"Solution of Toy Problem\")\n",
    "ax.set_xlabel(\"x\")\n",
    "ax.set_ylabel(\"y\")\n",
    "ax.set_zlabel(\"u\")\n",
    "plt.show()"
   ]
  },
  {
   "cell_type": "markdown",
   "metadata": {},
   "source": [
    "## Another note on Eigenvalues:\n",
    "\n",
    "While it is often useful as a guideline, the number of zero eigenvalues of our matrix A is not always related to the number of needed boundary conditions. The only thing a zero eigenvalue tells us, is that the discrete system is not well-posed and as such suggests that a modelling (we are missing some information) or discretization (we discretized our governing euqation wrongly) error was performed in earlier steps. Further, adding a boundary condition to a linear system is not the same as adding more rows to an underdetermined system. The reason is that boundary conditions modify both columns and rows when added. "
   ]
  },
  {
   "cell_type": "markdown",
   "metadata": {
    "pycharm": {
     "name": "#%% md\n"
    }
   },
   "source": [
    "# Alternative solution: Shur reduction of the above "
   ]
  },
  {
   "cell_type": "markdown",
   "metadata": {
    "pycharm": {
     "name": "#%% md\n"
    }
   },
   "source": [
    "Sofar we have solved the TOY problem by assembling a full system of equations and then solve the full system without exploiting any knowledge about domain nodes and ghost nodes. We will make a partitioning of the full system into small blocks and analyse these individually.\n",
    "\n",
    "$\n",
    "\\begin{bmatrix}\n",
    "A_{D,D} & A_{D,G} \\\\\n",
    "A_{G,D} & A_{G,G} \n",
    "\\end{bmatrix}\n",
    "\\begin{bmatrix}\n",
    "u_{D} \\\\ u_{G}\n",
    "\\end{bmatrix}\n",
    "=\n",
    "\\begin{bmatrix}\n",
    "b_{D} \\\\ b_{G}\n",
    "\\end{bmatrix}\n",
    "$\n",
    "\n",
    "where $D$ is the index set of domain nodes and $G$ is the index set of the ghost nodes"
   ]
  },
  {
   "cell_type": "code",
   "execution_count": null,
   "metadata": {
    "pycharm": {
     "name": "#%%\n"
    }
   },
   "outputs": [],
   "source": [
    "ADD = (A[D,:])[:,D]\n",
    "ADG = (A[D,:])[:,G]\n",
    "AGD = (A[G,:])[:,D]\n",
    "AGG = (A[G,:])[:,G]\n",
    "bD = b[D]\n",
    "bG = b[G]"
   ]
  },
  {
   "cell_type": "markdown",
   "metadata": {
    "pycharm": {
     "name": "#%% md\n"
    }
   },
   "source": [
    "Next we will create the Schur reduction.\n",
    "\n",
    "In our case AGG has either 1 or -1 on the diagonal. It means that it is its own inverse. That is\n",
    "\n",
    "$A_{G,G}^{-1} = A_{G,G}$\n",
    "\n",
    "This makes the Schur complement particular easy to compute for us. The Schur matrix has the benefit of being of lower dimension of A hence it is more efficient to solve the Schur system. Further, the Schur matrix is symmetric and definite.\n",
    "\n",
    "In our case the Schur matrix will be negative definite due to the Laplace operator. However, if the entire Shur equation is multiplied by minus one then one can solve for $u$ using an iterative fast solver such as preconditioned conjugate gradient."
   ]
  },
  {
   "cell_type": "code",
   "execution_count": null,
   "metadata": {
    "pycharm": {
     "name": "#%%\n"
    }
   },
   "outputs": [],
   "source": [
    "S = ADD - np.dot(ADG,np.dot(AGG,AGD))\n",
    "c = bD - np.dot(ADG,np.dot(AGG,bG))\n",
    "\n",
    "fig = plt.figure()\n",
    "ax = plt.subplot(111)\n",
    "plt.spy(S)\n",
    "ax.set_title(\"Fill Pattern of Schur Matrix\")\n",
    "plt.show()\n",
    "\n",
    "fig = plt.figure()\n",
    "ax = plt.subplot(111)\n",
    "plt.imshow(S)\n",
    "ax.set_title(\"Schur Matrix shown as an image\")\n",
    "plt.colorbar()\n",
    "plt.show()\n",
    "\n",
    "d,_ = np.linalg.eig(S)\n",
    "\n",
    "fig = plt.figure()\n",
    "ax = plt.subplot(111)\n",
    "plt.plot(np.sort(d))\n",
    "ax.set_title(\"Eigenvalues of Schur Matrix\")\n",
    "ax.set_xlabel(\"Index\")\n",
    "ax.set_ylabel(\"Value\")\n",
    "plt.show()"
   ]
  },
  {
   "cell_type": "markdown",
   "metadata": {
    "pycharm": {
     "name": "#%% md\n"
    }
   },
   "source": [
    "Finally, we will compute the solution for $u$ using the Schur complement and compare it against the solution of $u$ computed with the full system. It is interesting to know if this error is close the machine epsilon."
   ]
  },
  {
   "cell_type": "code",
   "execution_count": null,
   "metadata": {
    "pycharm": {
     "name": "#%%\n"
    }
   },
   "outputs": [],
   "source": [
    "uD = np.linalg.solve(S,c)\n",
    "\n",
    "error = np.linalg.norm(uD-u[D]) / np.linalg.norm(u[D])\n",
    "print('The relative error between Schur complement solution and full system solution is ', error)\n",
    "\n",
    "print(np.finfo(dtype=np.float64))"
   ]
  },
  {
   "cell_type": "markdown",
   "metadata": {
    "pycharm": {
     "name": "#%% md\n"
    }
   },
   "source": [
    "That is all folks!"
   ]
  }
 ],
 "metadata": {
  "kernelspec": {
   "display_name": "Python 3",
   "language": "python",
   "name": "python3"
  },
  "language_info": {
   "codemirror_mode": {
    "name": "ipython",
    "version": 3
   },
   "file_extension": ".py",
   "mimetype": "text/x-python",
   "name": "python",
   "nbconvert_exporter": "python",
   "pygments_lexer": "ipython3",
   "version": "3.9.4"
  }
 },
 "nbformat": 4,
 "nbformat_minor": 2
}
