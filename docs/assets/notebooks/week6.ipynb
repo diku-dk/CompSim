{
 "cells": [
  {
   "attachments": {},
   "cell_type": "markdown",
   "metadata": {
    "pycharm": {
     "name": "#%% md\n"
    }
   },
   "source": [
    "# Computational Methods in Simulation (CMIS) Week 6\n",
    "This notebook is intended to support your learning process. It contains exercises that help you to understand the material. "
   ]
  },
  {
   "attachments": {},
   "cell_type": "markdown",
   "metadata": {
    "pycharm": {
     "name": "#%% md\n"
    }
   },
   "source": [
    "Background information:\n",
    "\n",
    "Magnetization is explicitly induced by the relation\n",
    "  \\begin{equation*}\n",
    "    \\vec B = \\mu_0 \\left(\\vec M + \\vec H\\right)\n",
    "  \\end{equation*}\n",
    "  The equation $\\nabla \\times \\vec H = \\vec 0$ has the general solution $\\vec H = - \\nabla \\phi$ where $\\phi$ is a scalar potential field. Now\n",
    "  \\begin{equation*}\n",
    "    \\vec B = \\mu_0 \\left(\\vec M - \\nabla \\phi \\right)\n",
    "  \\end{equation*}\n",
    "  and by substitution\n",
    "  \\begin{equation*}\n",
    "\\nabla \\cdot  \\vec B = \\mu_0 \\left( \\nabla \\cdot \\vec M - \\nabla \\cdot\n",
    "  \\nabla \\phi  \\right) = 0\n",
    "  \\end{equation*}\n",
    "Cleaning up\n",
    "  \\begin{equation*}\n",
    "    \\nabla \\cdot  \\nabla \\phi = \\nabla \\cdot \\vec M\n",
    "  \\end{equation*}\n",
    "  This is a Poisson equation to solve for $\\phi$.\n",
    "\n",
    "This week is based in Slides 13 - follow the detailed steps below to learn about the finite volume method:\n",
    "\n",
    "* Compute a solution $\\phi(\\vec x) : \\Re^2 \\mapsto \\Re$ where $\\vec x \\in \\Re^2$. The problem is \\begin{equation*} \\nabla^2 \\phi(\\vec x) = \\nabla \\cdot \\vec M(\\vec x) \\quad \\forall \\vec x \\in  \\mathcal{A} \\end{equation*}\n",
    "where $\\mathcal{A}$ is the closed box $[-3..3] \\times [-1..1]$ and $\\vec M(\\vec x) : \\Re^2 \\mapsto \\Re^2$ is defined as zero outside the unit disk and $\\vec M = (0, -1)^T$ everywhere else. At the vertex closest to the north pole of the unit disk boundary we have $\\phi = 0$.  At every other boundary point of the box we have\n",
    "$D( \\phi, \\vec n) = \\nabla \\phi^T \\vec n = 0$ where $\\vec n$ is the outward unit vector normal at the boundary. Remember that $\\nabla^2 = \\nabla \\cdot \\nabla$ and $\\nabla = (\\frac{\\partial }{\\partial x_1}, \\frac{\\partial }{\\partial x_2})^T$.\n",
    "* Derive and implement a finite volume method scheme (Hint: use FDM to approximate directional derivative $\\nabla \\phi(\\vec x)^T \\vec n$).\n",
    "* Assume the domain can be ``nicely'' triangulated (use mesh from Week 3)\n",
    "* Discuss grid layout and control volume types careful!\n",
    "* If you have time try and change control volume to use a triangle control volume.\n",
    "\n",
    "Hints: Think about how to deal properly with control volumes that are partial outside and inside the disk where $\\vec M$ is defined. What is the problem with FVM for such control volumes?"
   ]
  },
  {
   "cell_type": "markdown",
   "metadata": {
    "pycharm": {
     "name": "#%% md\n"
    }
   },
   "source": [
    "## Detailed Expected Learning Objectives of this Week\n",
    "  \n",
    "* Account for Local and Global Conservation Properties of FVM.\n",
    "* Explain the difference between FEM, FVM and FDM.\n",
    "* Use Gauss-Divergence Principle to convert from volume to surface integrals.\n",
    "* Exploit piece-wise continuous integrals.\n",
    "* Apply numerical integration, ie mid-point rule, to surface integrals.\n",
    "* Explain what a control volume is and how it relates to the computational mesh layout."
   ]
  },
  {
   "cell_type": "code",
   "execution_count": 1,
   "metadata": {
    "pycharm": {
     "name": "#%%\n"
    }
   },
   "outputs": [],
   "source": [
    "%matplotlib widget"
   ]
  },
  {
   "cell_type": "code",
   "execution_count": 2,
   "metadata": {
    "pycharm": {
     "name": "#%%\n"
    }
   },
   "outputs": [],
   "source": [
    "import igl\n",
    "import numpy as np\n",
    "import matplotlib.pyplot as plt\n",
    "from mpl_toolkits import mplot3d"
   ]
  },
  {
   "cell_type": "markdown",
   "metadata": {
    "pycharm": {
     "name": "#%% md\n"
    }
   },
   "source": [
    "Let's first define  our mesh. We'll define the same mesh as in our meshing exercise in week 3. However, we will make one change to the mesh generation to avoid any triangle ears in the computational mesh. The change consist in shifting the flip-flop patteren such that if an even number of nodes is used along $x$ and $y$ axes then the beam mesh will have no triangle ears."
   ]
  },
  {
   "cell_type": "code",
   "execution_count": 3,
   "metadata": {
    "pycharm": {
     "name": "#%%\n"
    }
   },
   "outputs": [
    {
     "data": {
      "application/vnd.jupyter.widget-view+json": {
       "model_id": "f85aac4fd91441d4bb39fdefbbcb22b9",
       "version_major": 2,
       "version_minor": 0
      },
      "text/plain": [
       "Canvas(toolbar=Toolbar(toolitems=[('Home', 'Reset original view', 'home', 'home'), ('Back', 'Back to previous …"
      ]
     },
     "metadata": {},
     "output_type": "display_data"
    }
   ],
   "source": [
    "def make_beam_mesh(width, height, shape):\n",
    "    x0 = -width/2.0\n",
    "    y0 = -height/2.0\n",
    "    I  = shape[0]\n",
    "    J  = shape[1]\n",
    "    dx = width/float(I)\n",
    "    dy = height/float(J)\n",
    "    V = np.zeros(((I+1)*(J+1),2),dtype=np.float64)\n",
    "    for j in range(J+1):\n",
    "        for i in range(I+1):\n",
    "            k = i + j*(I+1)\n",
    "            V[k,0] = x0 + i*dx\n",
    "            V[k,1] = y0 + j*dy\n",
    "    T = np.zeros((2*I*J,3),dtype=np.int32)\n",
    "    for j in range(J):\n",
    "        for i in range(I):\n",
    "            k00 = (i  ) + (j  )*(I+1)\n",
    "            k01 = (i+1) + (j  )*(I+1)\n",
    "            k10 = (i  ) + (j+1)*(I+1)\n",
    "            k11 = (i+1) + (j+1)*(I+1)\n",
    "            e = 2*(i + j*I)\n",
    "            if (i+j+1)%2:\n",
    "                T[e,  :] = (k00,k01,k11)\n",
    "                T[e+1,:] = (k00,k11,k10)\n",
    "            else:\n",
    "                T[e,  :] = (k10,k00,k01)\n",
    "                T[e+1,:] = (k10,k01,k11)                    \n",
    "    return V, T\n",
    "\n",
    "V, T = make_beam_mesh(6.0,2.0,(12,6))\n",
    "\n",
    "fig = plt.figure()\n",
    "plt.triplot(V[:,0],V[:,1],T,color='r')\n",
    "plt.show()"
   ]
  },
  {
   "cell_type": "markdown",
   "metadata": {
    "pycharm": {
     "name": "#%% md\n"
    }
   },
   "source": [
    "Later we will need to build a data structure for our control volumes. To create the control volumes we need to be able to query the mesh about connectivity information and geometric information as well. That is things like all triangles that share the same vertex or the outward unit normals of a triangle and so on.\n",
    "\n",
    "To make this easy we provide a MeshInfo class that encapsulates simple libigl functionality into a more human readiable interface.\n",
    "\n",
    "It is a great help to know how to \"jump\" around neighbors in a mesh data structure. We encourage therefore that students spend a bit of time getting into how this works so they can extend and customize their data structures as they need to with little effort."
   ]
  },
  {
   "cell_type": "code",
   "execution_count": 4,
   "metadata": {
    "pycharm": {
     "name": "#%%\n"
    }
   },
   "outputs": [],
   "source": [
    "def vec2(x,y):\n",
    "    return np.array([x, y],dtype=np.float64)\n",
    "\n",
    "\n",
    "def hat(p):\n",
    "    return vec2(-p[1], p[0])\n",
    "\n",
    "\n",
    "def compute_triangle_areas(V,T):\n",
    "    E = len(T) # Total number of triangles in the mesh\n",
    "    A = np.zeros((E,),dtype=np.float64)\n",
    "    for e in range(E):\n",
    "        # Get triangle indices\n",
    "        i = T[e,0]\n",
    "        j = T[e,1]\n",
    "        k = T[e,2]\n",
    "        # Get triangle coordinates\n",
    "        xi = V[i,0]\n",
    "        xj = V[j,0]\n",
    "        xk = V[k,0]\n",
    "        yi = V[i,1]\n",
    "        yj = V[j,1]\n",
    "        yk = V[k,1]    \n",
    "        \n",
    "        dx1 = xk - xj\n",
    "        dy1 = yk - yj\n",
    "        dx2 = xi - xj\n",
    "        dy2 = yi - yj\n",
    "\n",
    "        A[e] =  (dx1*dy2 - dx2*dy1 ) / 2.0\n",
    "    return A\n",
    "\n",
    "\n",
    "class MeshInfo:\n",
    "    \n",
    "    def __init__(self, V, T):\n",
    "        self.A = compute_triangle_areas(V, T)\n",
    "        if np.any(np.where(self.A<=0)):\n",
    "            raise ValueError('Triangle with negative orientation exist.')\n",
    "        bc = igl.barycenter(V,T)\n",
    "        E = igl.edges(T)\n",
    "        TT, _ = igl.triangle_triangle_adjacency(T)\n",
    "        VT, NI = igl.vertex_triangle_adjacency(T, len(V))\n",
    "        VV = igl.adjacency_list(T)\n",
    "        self.V = V    # Vertices\n",
    "        self.T = T    # Triangles\n",
    "        self.E = E    # Edges\n",
    "        self.TT = TT  # Triangle neighbors of triangles\n",
    "        self.VT = VT  # Triangle neighbors of vertices\n",
    "        self.NI = NI  # Vertex neighbor indices used to extract triangle neighbors of vertices\n",
    "        self.VV = VV  # Vertex neighbors of vertices\n",
    "        self.bc = bc  # Barycenters of triangles        \n",
    "        mask = np.zeros(len(V),dtype=np.int)\n",
    "        mask[igl.boundary_loop(T)] = 1\n",
    "        self.boundary_vertex = mask # Boundary mask of vertices, if 1 then a vertex is boundary otherwise it is interior.\n",
    "        \n",
    "    def get_triangles_of_vertex(self, i):\n",
    "        start = self.NI[i]\n",
    "        end = self.NI[i+1]\n",
    "        return self.VT[ start:end]\n",
    "\n",
    "    def get_triangles_of_triangle(self, t):\n",
    "        return self.TT[t]\n",
    "    \n",
    "    def get_triangle_center(self,t):\n",
    "        return self.bc[t]\n",
    "    \n",
    "    def get_vertices_of_vertex(self, i):\n",
    "        return self.VV[i]\n",
    "    \n",
    "    def get_triangle_area(self,t):\n",
    "        return self.A[t]\n",
    "    \n",
    "    def get_edge_vector_of_triangle(self, t, e):\n",
    "        i = self.T[t,e]\n",
    "        j = self.T[t,(e+1)%3]\n",
    "        vi = self.V[i,:].flatten()\n",
    "        vj = self.V[j,:].flatten()\n",
    "        u = (vj-vi).flatten()\n",
    "        return u, (vi+vj)/2\n",
    "\n",
    "    def get_outward_normal_of_triangle(self, t, e):\n",
    "        u, m = self.get_edge_vector_of_triangle(t,e)\n",
    "        n = -hat(u)/np.linalg.norm(u)\n",
    "        return n, m\n",
    "    \n",
    "    def get_triangle_triangle_segment(self, t, e):\n",
    "        n = self.TT[t,e]\n",
    "        if n>0:\n",
    "            ct = self.bc[t].flatten()\n",
    "            cn = self.bc[n].flatten()\n",
    "            return cn-ct, (cn+ct)/2\n",
    "        return None, None    \n",
    "\n",
    "    def get_opposing_triangle(self, t, v):\n",
    "        e = (v+1)%3\n",
    "        return self.TT[t,e]\n",
    "    \n",
    "    def is_boundary_vertex(self,v):\n",
    "        if self.boundary_vertex[v]==1:\n",
    "            return True\n",
    "        return False"
   ]
  },
  {
   "cell_type": "markdown",
   "metadata": {
    "pycharm": {
     "name": "#%% md\n"
    }
   },
   "source": [
    "We will now run a simple test example of the mesh generation and mesh info data structure to verify that things are working as expected. \n",
    "\n",
    "In particular we want to make sure we have no ears in the mesh, and all neighborhood information are in order too."
   ]
  },
  {
   "cell_type": "code",
   "execution_count": 5,
   "metadata": {
    "pycharm": {
     "name": "#%%\n"
    }
   },
   "outputs": [
    {
     "name": "stderr",
     "output_type": "stream",
     "text": [
      "<ipython-input-4-c39c64e1da11>:53: DeprecationWarning: `np.int` is a deprecated alias for the builtin `int`. To silence this warning, use `int` by itself. Doing this will not modify any behavior and is safe. When replacing `np.int`, you may wish to use e.g. `np.int64` or `np.int32` to specify the precision. If you wish to review your current use, check the release note link for additional information.\n",
      "Deprecated in NumPy 1.20; for more details and guidance: https://numpy.org/devdocs/release/1.20.0-notes.html#deprecations\n",
      "  mask = np.zeros(len(V),dtype=np.int)\n"
     ]
    },
    {
     "data": {
      "application/vnd.jupyter.widget-view+json": {
       "model_id": "fcdd050a73bd4164891c214a5e22e9ab",
       "version_major": 2,
       "version_minor": 0
      },
      "text/plain": [
       "Canvas(toolbar=Toolbar(toolitems=[('Home', 'Reset original view', 'home', 'home'), ('Back', 'Back to previous …"
      ]
     },
     "metadata": {},
     "output_type": "display_data"
    },
    {
     "name": "stdout",
     "output_type": "stream",
     "text": [
      "vertex  0  has triangle neighbors  [0 1]\n",
      "vertex  1  has triangle neighbors  [0 2]\n",
      "vertex  2  has triangle neighbors  [2 3]\n",
      "vertex  3  has triangle neighbors  [1 4]\n",
      "vertex  4  has triangle neighbors  [0 1 2 3 4 5 6 7]\n",
      "vertex  5  has triangle neighbors  [3 6]\n",
      "vertex  6  has triangle neighbors  [4 5]\n",
      "vertex  7  has triangle neighbors  [5 7]\n",
      "vertex  8  has triangle neighbors  [6 7]\n",
      "Triangle  0  has triangle neighbors  [-1  2  1]\n",
      "Triangle  1  has triangle neighbors  [ 0  4 -1]\n",
      "Triangle  2  has triangle neighbors  [ 0 -1  3]\n",
      "Triangle  3  has triangle neighbors  [ 2 -1  6]\n",
      "Triangle  4  has triangle neighbors  [-1  1  5]\n",
      "Triangle  5  has triangle neighbors  [ 4  7 -1]\n",
      "Triangle  6  has triangle neighbors  [ 3 -1  7]\n",
      "Triangle  7  has triangle neighbors  [ 6 -1  5]\n",
      "vertex  0  has vertex neighbors  [1, 3, 4]\n",
      "vertex  1  has vertex neighbors  [0, 2, 4]\n",
      "vertex  2  has vertex neighbors  [1, 4, 5]\n",
      "vertex  3  has vertex neighbors  [0, 4, 6]\n",
      "vertex  4  has vertex neighbors  [0, 1, 2, 3, 5, 6, 7, 8]\n",
      "vertex  5  has vertex neighbors  [2, 4, 8]\n",
      "vertex  6  has vertex neighbors  [3, 4, 7]\n",
      "vertex  7  has vertex neighbors  [4, 6, 8]\n",
      "vertex  8  has vertex neighbors  [4, 5, 7]\n"
     ]
    }
   ],
   "source": [
    "V, T = make_beam_mesh(1.0,1.0,(2,2))\n",
    "\n",
    "info = MeshInfo(V,T)\n",
    "\n",
    "fig = plt.figure()\n",
    "plt.triplot(info.V[:,0],info.V[:,1],info.T,color='r')\n",
    "for v in range(len(V)):\n",
    "    print('vertex ',v , ' has triangle neighbors ',info.get_triangles_of_vertex(v))\n",
    "    plt.text(info.V[v,0],info.V[v,1], str(v))\n",
    "for t in range(len(T)):\n",
    "    print('Triangle ',t , ' has triangle neighbors ',info.get_triangles_of_triangle(t))\n",
    "    c = info.get_triangle_center(t)\n",
    "    plt.text(c[0],c[1], str(t))\n",
    "for v in range(len(V)):\n",
    "    print('vertex ',v , ' has vertex neighbors ',info.get_vertices_of_vertex(v))\n",
    "for t in range(len(T)):\n",
    "    c = info.get_triangle_center(t)\n",
    "    for e in range(3):\n",
    "        u, m = info.get_edge_vector_of_triangle(t,e)\n",
    "        v = m - 0.5*u\n",
    "        w = m + 0.5*u\n",
    "        m = (m-c)*0.9 + c\n",
    "        v = (v-c)*0.9 + c\n",
    "        w = (w-c)*0.9 + c\n",
    "        plt.plot([v[0], w[0]], [v[1], w[1]] )\n",
    "for t in range(len(T)):\n",
    "    for e in range(3):\n",
    "        n, m = info.get_outward_normal_of_triangle(t,e)\n",
    "        plt.plot([m[0], 0.1*n[0]+m[0]], [m[1], 0.1*n[1]+m[1]] )\n",
    "        plt.plot(m[0], m[1],'ko')\n",
    "for t in range(len(T)):\n",
    "    for e in range(3):\n",
    "        u, m = info.get_triangle_triangle_segment(t,e)\n",
    "        if not u is None: \n",
    "            v = m - 0.5*u\n",
    "            w = m + 0.5*u\n",
    "            plt.plot([v[0], w[0]], [v[1], w[1]] )\n",
    "            plt.plot(m[0], m[1],'kx')\n",
    "plt.show()"
   ]
  },
  {
   "cell_type": "markdown",
   "metadata": {
    "pycharm": {
     "name": "#%% md\n"
    }
   },
   "source": [
    "# Creating Control Volume Data Structure\n",
    "\n",
    "Our notation when visiting traingles in counter clock-wise order around vertex i. Here A is the first triangle in CCW order and B is the next triangle.\n",
    "\n",
    "When we iterate over the triangles we will create the edges of the control volume one by one. We do this by looking ahead to the next triangle in CCW order and make the edge between the current and the next triangle centers. When we reach the last triangle in the neighbor we simply define the next triangle using the modulus operation. \n",
    "\n",
    "<pre>\n",
    "        m\n",
    "        *\n",
    "       / \\\n",
    "      /   \\  B   --- Next triangle when iterating over iterior triangles \n",
    "     /  x  \\      \n",
    "    /       \\\n",
    "   /         \\\n",
    "i *----------* k\n",
    "   \\        /\n",
    "    \\  x   /      \n",
    "     \\    /   A     --- Current triangle when iterating over iterior triangles\n",
    "      \\  /\n",
    "       \\/\n",
    "       *\n",
    "       j\n",
    "</pre>\n",
    "\n",
    "In cases where the control volume is not on the boundary all the neighbor triangles form a closed ring about the vertex center of the control volume. On the other hand if the control volume is on the boundary then the triangles do not loop around the vertex. In this case we sort the triangles in CCW order such that the first triangle is the start and the last is the end of the open neighborhood.\n",
    "\n",
    "We need to treat the start and end triangles for boundary control volumes as special cases. In case of the first-triangle it will play the role of the B-triangle and a ghost triangle will play the role of A. For the last triangle it will pplay the role of an A triangle and the ghost will be a B-triangle.\n",
    "\n",
    "<pre>\n",
    "        \n",
    "        *---------*\n",
    "       / \\        /\n",
    "      /   \\   x  /\n",
    "     /  x  \\    /  -- First CCW order triangle\n",
    "    /       \\  /\n",
    "   /         \\/ \n",
    "  *----------* i   -- Boundary vertex\n",
    "   \\        /\n",
    "    \\  x   /      \n",
    "     \\    /  --- Last CCW order triangle\n",
    "      \\  /\n",
    "       \\/\n",
    "       *\n",
    "       \n",
    "</pre>\n",
    "\n",
    "Having this logic defined it is a simple matter of generating the control volume boundary.\n",
    "\n",
    "For the start/end triangles we define the CV edges to run from center of the triangle orthogonal to the physical boundary of the domain and then from the boundary intersection point back the control volume center."
   ]
  },
  {
   "cell_type": "code",
   "execution_count": 6,
   "metadata": {
    "pycharm": {
     "name": "#%%\n"
    }
   },
   "outputs": [],
   "source": [
    "def project_to_line(q, pi, pj):\n",
    "    u = pj -pi\n",
    "    l = np.linalg.norm(u)\n",
    "    u = u/l\n",
    "    return np.dot(q-pi, u)*u + pi\n",
    "    \n",
    "    \n",
    "def get_cyclic_permuation(v, triangle):\n",
    "    i = triangle[0]\n",
    "    j = triangle[1]\n",
    "    k = triangle[2]\n",
    "    if i==v:\n",
    "        return [i, j, k]\n",
    "    if j==v:\n",
    "        return [j, k, i]\n",
    "    if k==v:\n",
    "        return [k, i, j]\n",
    "    return [-1, -1, -1]\n",
    "\n",
    "\n",
    "def get_ccw_triangle_order(v, T):    \n",
    "    for t in range(len(T)):\n",
    "        T[t,:] = get_cyclic_permuation(v, T[t,:])    \n",
    "    if len(T) == 1:\n",
    "        ccw_order = np.array([0], dtype=np.int).flatten()\n",
    "    else:\n",
    "        ccw_order = []\n",
    "        next_order = -np.ones( (len(T), ), dtype=np.int )\n",
    "        prev_order = -np.ones( (len(T), ), dtype=np.int )\n",
    "        for s in range(len(T)):\n",
    "            A = T[s,:]\n",
    "            for t in range(len(T)):\n",
    "                B = T[t,:]\n",
    "                if A[2]==B[1]:\n",
    "                    next_order[s] = t\n",
    "                if A[1]==B[2]:\n",
    "                    prev_order[s] = t\n",
    "        if np.any(prev_order<0):\n",
    "            i = np.where(prev_order<0)[0]\n",
    "            while i>=0:\n",
    "                ccw_order.append(i)\n",
    "                i = next_order[i]\n",
    "        else:\n",
    "            i = 0\n",
    "            ccw_order.append(i)\n",
    "            i = next_order[i]\n",
    "            while i>0:\n",
    "                ccw_order.append(i)\n",
    "                i = next_order[i]            \n",
    "        ccw_order = np.array(ccw_order, dtype=np.int).flatten()\n",
    "    return ccw_order\n",
    "\n",
    "    \n",
    "class VertexControlVolume:\n",
    "\n",
    "    def __init__(self, v, info):\n",
    "        self.v = v\n",
    "        self.c = info.V[v,:].flatten()\n",
    "        self.boundary = info.is_boundary_vertex(v)\n",
    "        \n",
    "        labels = info.get_triangles_of_vertex(v)\n",
    "        \n",
    "        T = info.T[labels,:]\n",
    "        for t in range(len(T)):\n",
    "            T[t,:] = get_cyclic_permuation(v, T[t,:])\n",
    "            \n",
    "        ccw_order = get_ccw_triangle_order(v, T)\n",
    "        T = T[ccw_order,:]\n",
    "        labels = labels[ccw_order]\n",
    "        \n",
    "        self.M = []  # Edge mid-points\n",
    "        self.E = []  # Edge vectors\n",
    "        self.L = []  # Edge length\n",
    "        self.N = []  # Outward unit-normal for edge\n",
    "        self.S = []  # Segment between opposite CV center and this CV center\n",
    "        self.opp = [] # Index of CV opposite this CV across the edge\n",
    "        self.code = [] # A code flag that encodes what type of edge we have, 0:interior, 1:boundary, 2:from interior to boundary (semi-interior)\n",
    "        \n",
    "        self.INTERIOR = 0\n",
    "        self.BOUNDARY = 1\n",
    "        self.SEMI_INTERIOR = 2\n",
    "        \n",
    "        if self.boundary:\n",
    "            # First CCW triangle. In this case the triangle has\n",
    "            # the B-role and the Ghost triangle has the A-role\n",
    "            i = T[0,0]\n",
    "            k = T[0,1]\n",
    "            B = labels[0]\n",
    "            cB = info.get_triangle_center(B)\n",
    "            pi = info.V[i,:]\n",
    "            pk = info.V[k,:]\n",
    "            cA = project_to_line(cB,pi,pk)\n",
    "            \n",
    "            m = (cA+pi)/2\n",
    "            u = cA-pi\n",
    "            l = np.linalg.norm(u)\n",
    "            n = -hat(u)/l\n",
    "            s = vec2(0,0)\n",
    "            self.M.append(m)\n",
    "            self.E.append(u)\n",
    "            self.L.append(l)\n",
    "            self.N.append(n)\n",
    "            self.S.append(s)\n",
    "            self.opp.append(-1)\n",
    "            self.code.append(self.BOUNDARY)\n",
    "                                    \n",
    "            m = (cA+cB)/2\n",
    "            u = cB-cA\n",
    "            l = np.linalg.norm(u)\n",
    "            n = -hat(u)/l\n",
    "            s = pk-pi\n",
    "            self.M.append(m)\n",
    "            self.E.append(u)\n",
    "            self.L.append(l)\n",
    "            self.N.append(n)\n",
    "            self.S.append(s)\n",
    "            self.opp.append(k)\n",
    "            self.code.append(self.SEMI_INTERIOR)\n",
    "            \n",
    "        K = len(labels)\n",
    "        endK = K\n",
    "        if self.boundary:\n",
    "            # When we have an open boundary we must\n",
    "            # be careful not trying to \"close\" the neighborhood\n",
    "            # when generating interior edges    \n",
    "            endK = K-1  \n",
    "                \n",
    "        for e in range(endK):\n",
    "            i = T[e,0]\n",
    "            k = T[e,2]\n",
    "            A = labels[e]\n",
    "            B = labels[(e+1)%K]\n",
    "            \n",
    "            cA = info.get_triangle_center(A)\n",
    "            cB = info.get_triangle_center(B)\n",
    "                \n",
    "            m = (cA+cB)/2\n",
    "            u = cB-cA\n",
    "            l = np.linalg.norm(u)\n",
    "            n = -hat(u)/l\n",
    "                \n",
    "            pi = info.V[i,:]\n",
    "            pk = info.V[k,:]\n",
    "            s = pk-pi\n",
    "            \n",
    "            self.M.append(m)\n",
    "            self.E.append(u)\n",
    "            self.L.append(l)\n",
    "            self.N.append(n)\n",
    "            self.S.append(s)\n",
    "            self.opp.append(k)\n",
    "            self.code.append(self.INTERIOR)\n",
    "            \n",
    "        if self.boundary:\n",
    "            # Last CCW triangle. In this case the triangle has\n",
    "            # the A-role and the Ghost triangle has the B-role            \n",
    "            i = T[endK,0]\n",
    "            k = T[endK,2]\n",
    "            A = labels[endK]\n",
    "            cA = info.get_triangle_center(A) \n",
    "            pi = info.V[i,:]\n",
    "            pk = info.V[k,:]\n",
    "            cB = project_to_line(cA,pi,pk)\n",
    "                                                            \n",
    "            m = (cA+cB)/2           # Edge mid-point\n",
    "            u = cB-cA               # Edge vector\n",
    "            l = np.linalg.norm(u)   # Edge length\n",
    "            n = -hat(u)/l           # Outward unit normal for edge                \n",
    "            s = pk-pi               # Segment between opposite CV center and this CV center            \n",
    "            self.M.append(m)\n",
    "            self.E.append(u)\n",
    "            self.L.append(l)\n",
    "            self.N.append(n)\n",
    "            self.S.append(s)\n",
    "            self.opp.append(k)\n",
    "            self.code.append(self.SEMI_INTERIOR)\n",
    "            \n",
    "            m = (pi+cB)/2           # Edge mid-point\n",
    "            u = pi-cB               # Edge vector\n",
    "            l = np.linalg.norm(u)   # Edge length\n",
    "            n = -hat(u)/l           # Outward unit normal for edge                \n",
    "            s = vec2(0,0)           # Segment between opposite CV center and this CV center            \n",
    "            self.M.append(m)\n",
    "            self.E.append(u)\n",
    "            self.L.append(l)\n",
    "            self.N.append(n)\n",
    "            self.S.append(s)\n",
    "            self.opp.append(-1)\n",
    "            self.code.append(self.BOUNDARY)\n",
    "\n",
    "        self.M = np.array(self.M, dtype=np.float32)\n",
    "        self.E = np.array(self.E, dtype=np.float32)\n",
    "        self.L = np.array(self.L, dtype=np.float32)\n",
    "        self.N = np.array(self.N, dtype=np.float32)\n",
    "        self.S = np.array(self.S, dtype=np.float32)\n",
    "        self.opp = np.array(self.opp, dtype=np.int)\n",
    "        self.code = np.array(self.code, dtype=np.int)"
   ]
  },
  {
   "cell_type": "markdown",
   "metadata": {
    "pycharm": {
     "name": "#%% md\n"
    }
   },
   "source": [
    "Now we will do a little debug rendering to test if the information in the new control volume is created correctly."
   ]
  },
  {
   "cell_type": "code",
   "execution_count": 7,
   "metadata": {
    "pycharm": {
     "name": "#%%\n"
    }
   },
   "outputs": [
    {
     "name": "stderr",
     "output_type": "stream",
     "text": [
      "<ipython-input-4-c39c64e1da11>:53: DeprecationWarning: `np.int` is a deprecated alias for the builtin `int`. To silence this warning, use `int` by itself. Doing this will not modify any behavior and is safe. When replacing `np.int`, you may wish to use e.g. `np.int64` or `np.int32` to specify the precision. If you wish to review your current use, check the release note link for additional information.\n",
      "Deprecated in NumPy 1.20; for more details and guidance: https://numpy.org/devdocs/release/1.20.0-notes.html#deprecations\n",
      "  mask = np.zeros(len(V),dtype=np.int)\n",
      "<ipython-input-6-9e97df66afde>:28: DeprecationWarning: `np.int` is a deprecated alias for the builtin `int`. To silence this warning, use `int` by itself. Doing this will not modify any behavior and is safe. When replacing `np.int`, you may wish to use e.g. `np.int64` or `np.int32` to specify the precision. If you wish to review your current use, check the release note link for additional information.\n",
      "Deprecated in NumPy 1.20; for more details and guidance: https://numpy.org/devdocs/release/1.20.0-notes.html#deprecations\n",
      "  next_order = -np.ones( (len(T), ), dtype=np.int )\n",
      "<ipython-input-6-9e97df66afde>:29: DeprecationWarning: `np.int` is a deprecated alias for the builtin `int`. To silence this warning, use `int` by itself. Doing this will not modify any behavior and is safe. When replacing `np.int`, you may wish to use e.g. `np.int64` or `np.int32` to specify the precision. If you wish to review your current use, check the release note link for additional information.\n",
      "Deprecated in NumPy 1.20; for more details and guidance: https://numpy.org/devdocs/release/1.20.0-notes.html#deprecations\n",
      "  prev_order = -np.ones( (len(T), ), dtype=np.int )\n",
      "<ipython-input-6-9e97df66afde>:50: DeprecationWarning: `np.int` is a deprecated alias for the builtin `int`. To silence this warning, use `int` by itself. Doing this will not modify any behavior and is safe. When replacing `np.int`, you may wish to use e.g. `np.int64` or `np.int32` to specify the precision. If you wish to review your current use, check the release note link for additional information.\n",
      "Deprecated in NumPy 1.20; for more details and guidance: https://numpy.org/devdocs/release/1.20.0-notes.html#deprecations\n",
      "  ccw_order = np.array(ccw_order, dtype=np.int).flatten()\n",
      "<ipython-input-6-9e97df66afde>:196: DeprecationWarning: `np.int` is a deprecated alias for the builtin `int`. To silence this warning, use `int` by itself. Doing this will not modify any behavior and is safe. When replacing `np.int`, you may wish to use e.g. `np.int64` or `np.int32` to specify the precision. If you wish to review your current use, check the release note link for additional information.\n",
      "Deprecated in NumPy 1.20; for more details and guidance: https://numpy.org/devdocs/release/1.20.0-notes.html#deprecations\n",
      "  self.opp = np.array(self.opp, dtype=np.int)\n",
      "<ipython-input-6-9e97df66afde>:197: DeprecationWarning: `np.int` is a deprecated alias for the builtin `int`. To silence this warning, use `int` by itself. Doing this will not modify any behavior and is safe. When replacing `np.int`, you may wish to use e.g. `np.int64` or `np.int32` to specify the precision. If you wish to review your current use, check the release note link for additional information.\n",
      "Deprecated in NumPy 1.20; for more details and guidance: https://numpy.org/devdocs/release/1.20.0-notes.html#deprecations\n",
      "  self.code = np.array(self.code, dtype=np.int)\n"
     ]
    },
    {
     "data": {
      "application/vnd.jupyter.widget-view+json": {
       "model_id": "ca80275fe00d41e281db7131d4dd5aba",
       "version_major": 2,
       "version_minor": 0
      },
      "text/plain": [
       "Canvas(toolbar=Toolbar(toolitems=[('Home', 'Reset original view', 'home', 'home'), ('Back', 'Back to previous …"
      ]
     },
     "metadata": {},
     "output_type": "display_data"
    }
   ],
   "source": [
    "info = MeshInfo(V,T)\n",
    "\n",
    "CVs = []\n",
    "for v in range(len(V)):\n",
    "    cv = VertexControlVolume(v,info)\n",
    "    CVs.append(cv)            \n",
    "\n",
    "fig = plt.figure()\n",
    "ax = plt.subplot(111)\n",
    "plt.triplot(info.V[:,0],info.V[:,1],info.T,color='k')\n",
    "for v in range(len(info.V)):\n",
    "    cv = CVs[v]\n",
    "    plt.plot(cv.c[0],cv.c[1],'ko')\n",
    "    \n",
    "    for e in range(len(cv.code)):            \n",
    "        plt.plot(cv.M[e,0],cv.M[e,1],'ks')\n",
    "        \n",
    "        start = cv.M[e,:] - cv.E[e,:]/2\n",
    "        end = cv.M[e,:] + cv.E[e,:]/2        \n",
    "        start = (start - cv.c)*0.9 + cv.c\n",
    "        end = (end - cv.c)*0.9 + cv.c\n",
    "        plt.plot([start[0], end[0]],[start[1], end[1]],'-ro')\n",
    "                   \n",
    "        start = cv.M[e,:] \n",
    "        end = cv.M[e,:] + cv.N[e,:]*0.1\n",
    "        start = (start - cv.c)*0.9 + cv.c\n",
    "        end = (end - cv.c)*0.9 + cv.c\n",
    "        plt.plot([start[0], end[0]],[start[1], end[1]],'-b')\n",
    "\n",
    "        start = cv.c \n",
    "        end = cv.c + cv.S[e,:]*0.2\n",
    "        plt.plot([start[0], end[0]],[start[1], end[1]],'-md')\n",
    "ax.axis('equal')\n",
    "plt.show() "
   ]
  },
  {
   "cell_type": "markdown",
   "metadata": {
    "pycharm": {
     "name": "#%% md\n"
    }
   },
   "source": [
    "# Finite Volume Method for Magnetostatic Problem\n",
    "\n",
    "Now when we have created our control volume data structure we can start assembling a matrix systetm that we can solve.\n",
    "\n",
    "The assembly method returns the A-matrix and b-vector for the full system. It also returns the index of the north pole node where the Dirichlet condition is applied. Further the assembly method applies the boundary condition to the full system before it returns its values."
   ]
  },
  {
   "cell_type": "code",
   "execution_count": 8,
   "metadata": {
    "pycharm": {
     "name": "#%%\n"
    }
   },
   "outputs": [
    {
     "ename": "SyntaxError",
     "evalue": "invalid syntax (<ipython-input-8-b1185fbb8846>, line 32)",
     "output_type": "error",
     "traceback": [
      "\u001b[1;36m  File \u001b[1;32m\"<ipython-input-8-b1185fbb8846>\"\u001b[1;36m, line \u001b[1;32m32\u001b[0m\n\u001b[1;33m    M =\u001b[0m\n\u001b[1;37m        ^\u001b[0m\n\u001b[1;31mSyntaxError\u001b[0m\u001b[1;31m:\u001b[0m invalid syntax\n"
     ]
    }
   ],
   "source": [
    "def inside_unit_circle(p):\n",
    "    return np.linalg.norm(p)<=1\n",
    "\n",
    "\n",
    "def matrix_assembly(CVs):\n",
    "    N = len(CVs)\n",
    "    A = np.zeros((N,N),dtype=np.float32)\n",
    "    b = np.zeros((N,),dtype=np.float32)\n",
    "    \n",
    "    idx = 0\n",
    "    min_dist = np.linalg.norm(vec2(0,1) - CVs[0].c)\n",
    "    \n",
    "    for i in range(N):        \n",
    "        cv = CVs[i]\n",
    "                \n",
    "        dist = np.linalg.norm( vec2(0,1) - cv.c )\n",
    "        if dist < min_dist:\n",
    "            min_dist = dist\n",
    "            idx = i\n",
    "        \n",
    "        for e in range(len(cv.code)):\n",
    "            n = cv.N[e,:]\n",
    "            m = cv.M[e,:]\n",
    "            l = cv.L[e]\n",
    "            s = cv.S[e,:]\n",
    "            k = cv.opp[e]\n",
    "            code = cv.code[e]\n",
    "                        \n",
    "            M = vec2(0,0)\n",
    "            # TODO - Add your solution for computing M field\n",
    "            if inside_unit_circle(m):\n",
    "                M = \n",
    "                \n",
    "            if code == cv.INTERIOR:\n",
    "                # edge is inside domain and everything is fine, and we can use\n",
    "                # 'straightforward' discretization\n",
    "                \n",
    "                # TODO - Add your solution\n",
    "                \n",
    "            if code == cv.SEMI_INTERIOR:\n",
    "                # edge is coming from inside domain and ends on the physical\n",
    "                # boundary -- we must apply some special discretization\n",
    "                \n",
    "                # TODO - Add your solution\n",
    "                \n",
    "            #if code == cv.BOUNDARY:\n",
    "                # edge is on the physical boundary -- we must apply some boundary\n",
    "                # condition, here we got von Neumann condition saying \n",
    "                #    nabla phi dot n = 0  \n",
    "                \n",
    "                # TODO - Add your solution\n",
    "                \n",
    "    # Add a Dirichlet condition to node that is closest to the North Pole (0,1)\n",
    "    \n",
    "    # TODO - Add your solution here\n",
    "    A[:,idx] = \n",
    "    A[idx,:] =\n",
    "    A[idx,idx] = \n",
    "    b[idx] = \n",
    "    return A, b, idx"
   ]
  },
  {
   "cell_type": "markdown",
   "metadata": {
    "pycharm": {
     "name": "#%% md\n"
    }
   },
   "source": [
    "We now have all code pieces in place to create all the control volumes and perform our assembly process to create a final matrix system that can be solved later on."
   ]
  },
  {
   "cell_type": "code",
   "execution_count": null,
   "metadata": {
    "pycharm": {
     "name": "#%%\n"
    }
   },
   "outputs": [],
   "source": [
    "V, T = make_beam_mesh(6.0,2.0,(72,24))\n",
    "\n",
    "info = MeshInfo(V,T)\n",
    "\n",
    "CVs = []\n",
    "for v in range(len(V)):\n",
    "    cv = VertexControlVolume(v,info)\n",
    "    CVs.append(cv)  \n",
    "\n",
    "A, b, idx = matrix_assembly(CVs)"
   ]
  },
  {
   "cell_type": "markdown",
   "metadata": {
    "pycharm": {
     "name": "#%% md\n"
    }
   },
   "source": [
    "Before we continue with solving our system we will briefly inspect if the system matrix having the correct fill pattern and eigenvalues as we would expect."
   ]
  },
  {
   "cell_type": "code",
   "execution_count": null,
   "metadata": {
    "pycharm": {
     "name": "#%%\n"
    }
   },
   "outputs": [],
   "source": [
    "fig = plt.figure()\n",
    "ax = plt.subplot(111)\n",
    "plt.spy(A);\n",
    "ax.set_title('Fill pattern of K matrix');\n",
    "ax.set_ylabel('Row index');\n",
    "ax.set_xlabel('Column index');\n",
    "plt.show()\n",
    "\n",
    "fig = plt.figure()\n",
    "d, _ = np.linalg.eig(A)\n",
    "plt.plot(np.sort( d ) );\n",
    "ax.set_title('Eigenvalues of K matrix');\n",
    "ax.set_xlabel('Eigenvalue Index')\n",
    "ax.set_ylabel('Value');\n",
    "plt.show()"
   ]
  },
  {
   "cell_type": "markdown",
   "metadata": {
    "pycharm": {
     "name": "#%% md\n"
    }
   },
   "source": [
    "After we have verified that the assembly was done correctly we can now compute our solution. After the solution we just verify if our boundary condition was treated correctly"
   ]
  },
  {
   "cell_type": "code",
   "execution_count": null,
   "metadata": {
    "pycharm": {
     "name": "#%%\n"
    }
   },
   "outputs": [],
   "source": [
    "phi = np.linalg.solve(A, b)\n",
    "\n",
    "print('North pole node was located at ',CVs[idx].c, ' and has phi-value = ',phi[idx])"
   ]
  },
  {
   "cell_type": "markdown",
   "metadata": {
    "pycharm": {
     "name": "#%% md\n"
    }
   },
   "source": [
    "Let us now plot our solution to verify if it behaves as we expect"
   ]
  },
  {
   "cell_type": "code",
   "execution_count": null,
   "metadata": {
    "pycharm": {
     "name": "#%%\n"
    }
   },
   "outputs": [],
   "source": [
    "fig = plt.figure()\n",
    "ax = plt.subplot(111)\n",
    "plt.tripcolor(V[:,0],V[:,1],T,phi)\n",
    "plt.plot(CVs[idx].c[0],CVs[idx].c[1],'ro')\n",
    "plt.colorbar()\n",
    "ax.axis('equal')\n",
    "ax.set_xlabel('x')\n",
    "ax.set_ylabel('y')\n",
    "ax.set_title('$\\phi$-solution')\n",
    "plt.show()"
   ]
  },
  {
   "cell_type": "markdown",
   "metadata": {
    "pycharm": {
     "name": "#%% md\n"
    }
   },
   "source": [
    "It can be insightful to see a potential field as a height field in 3D"
   ]
  },
  {
   "cell_type": "code",
   "execution_count": null,
   "metadata": {
    "pycharm": {
     "name": "#%%\n"
    }
   },
   "outputs": [],
   "source": [
    "fig = plt.figure()\n",
    "ax = plt.axes(projection='3d')\n",
    "ax.plot_trisurf(V[:,0], V[:,1], phi,  triangles=T, linewidth=0.2, antialiased=True, cmap=plt.cm.bone)\n",
    "ax.set_title('Magnetostatic Potential Field')\n",
    "ax.set_xlabel('x')\n",
    "ax.set_ylabel('y')\n",
    "ax.set_zlabel('$\\phi$')\n",
    "plt.show()"
   ]
  },
  {
   "cell_type": "markdown",
   "metadata": {
    "pycharm": {
     "name": "#%% md\n"
    }
   },
   "source": [
    "Another usefull visualization technique is to show contours of the solution. "
   ]
  },
  {
   "cell_type": "code",
   "execution_count": null,
   "metadata": {
    "pycharm": {
     "name": "#%%\n"
    }
   },
   "outputs": [],
   "source": [
    "fig = plt.figure()\n",
    "ax = plt.subplot(111)\n",
    "X = V[:,0].reshape(25,73)\n",
    "Y = V[:,1].reshape(25,73)\n",
    "Z = phi.reshape(25,73)\n",
    "# add magnetic field streamlines\n",
    "gy,gx = np.gradient(Z)\n",
    "\n",
    "\n",
    "plt.contourf(X,Y,Z,levels=20)\n",
    "plt.colorbar()\n",
    "plt.contour(X,Y,Z,levels=20,cmap=plt.cm.jet)\n",
    "plt.streamplot(X, Y, gx, gy)\n",
    "ax.axis('equal')\n",
    "ax.set_xlabel('x')\n",
    "ax.set_ylabel('y')\n",
    "ax.set_title('$\\phi$-solution contours')\n",
    "plt.show()"
   ]
  },
  {
   "cell_type": "markdown",
   "metadata": {
    "pycharm": {
     "name": "#%% md\n"
    }
   },
   "source": [
    "That is all folks!"
   ]
  }
 ],
 "metadata": {
  "kernelspec": {
   "display_name": "Python 3",
   "language": "python",
   "name": "python3"
  },
  "language_info": {
   "codemirror_mode": {
    "name": "ipython",
    "version": 3
   },
   "file_extension": ".py",
   "mimetype": "text/x-python",
   "name": "python",
   "nbconvert_exporter": "python",
   "pygments_lexer": "ipython3",
   "version": "3.9.4"
  }
 },
 "nbformat": 4,
 "nbformat_minor": 2
}
